{
  "nbformat": 4,
  "nbformat_minor": 0,
  "metadata": {
    "colab": {
      "provenance": [],
      "include_colab_link": true
    },
    "kernelspec": {
      "name": "python3",
      "display_name": "Python 3"
    },
    "language_info": {
      "name": "python"
    }
  },
  "cells": [
    {
      "cell_type": "markdown",
      "metadata": {
        "id": "view-in-github",
        "colab_type": "text"
      },
      "source": [
        "<a href=\"https://colab.research.google.com/github/giteshwarisoni/Movies_recommendation/blob/main/stock_price_prediction_(1)_(1).ipynb\" target=\"_parent\"><img src=\"https://colab.research.google.com/assets/colab-badge.svg\" alt=\"Open In Colab\"/></a>"
      ]
    },
    {
      "cell_type": "code",
      "execution_count": null,
      "metadata": {
        "id": "6awQoxpfahhj"
      },
      "outputs": [],
      "source": [
        "import numpy as np \n",
        "import pandas as pd \n",
        "import os \n",
        "import matplotlib.pyplot as plt \n",
        "import warnings\n",
        "warnings.filterwarnings('ignore')\n",
        "from matplotlib.pylab import rcParams\n",
        "rcParams['figure.figsize'] = 15, 6\n"
      ]
    },
    {
      "cell_type": "code",
      "source": [
        "df =pd.read_csv(\"/content/prices.csv\", header=0)\n",
        "display (df)\n"
      ],
      "metadata": {
        "colab": {
          "base_uri": "https://localhost:8080/",
          "height": 423
        },
        "id": "ZV2nj_BMbcRJ",
        "outputId": "5fa6b85f-d1bb-46b7-ffcf-6d14612a4705"
      },
      "execution_count": null,
      "outputs": [
        {
          "output_type": "display_data",
          "data": {
            "text/plain": [
              "                       date symbol        open       close         low  \\\n",
              "0       2016-01-05 00:00:00   WLTW  123.430000  125.839996  122.309998   \n",
              "1       2016-01-06 00:00:00   WLTW  125.239998  119.980003  119.940002   \n",
              "2       2016-01-07 00:00:00   WLTW  116.379997  114.949997  114.930000   \n",
              "3       2016-01-08 00:00:00   WLTW  115.480003  116.620003  113.500000   \n",
              "4       2016-01-11 00:00:00   WLTW  117.010002  114.970001  114.089996   \n",
              "...                     ...    ...         ...         ...         ...   \n",
              "851259           2016-12-30    ZBH  103.309998  103.199997  102.849998   \n",
              "851260           2016-12-30   ZION   43.070000   43.040001   42.689999   \n",
              "851261           2016-12-30    ZTS   53.639999   53.529999   53.270000   \n",
              "851262  2016-12-30 00:00:00    AIV   44.730000   45.450001   44.410000   \n",
              "851263  2016-12-30 00:00:00    FTV   54.200001   53.630001   53.389999   \n",
              "\n",
              "              high     volume  \n",
              "0       126.250000  2163600.0  \n",
              "1       125.540001  2386400.0  \n",
              "2       119.739998  2489500.0  \n",
              "3       117.440002  2006300.0  \n",
              "4       117.330002  1408600.0  \n",
              "...            ...        ...  \n",
              "851259  103.930000   973800.0  \n",
              "851260   43.310001  1938100.0  \n",
              "851261   53.740002  1701200.0  \n",
              "851262   45.590000  1380900.0  \n",
              "851263   54.480000   705100.0  \n",
              "\n",
              "[851264 rows x 7 columns]"
            ],
            "text/html": [
              "\n",
              "  <div id=\"df-7f48e874-8f01-4ce6-b05c-00852051af82\">\n",
              "    <div class=\"colab-df-container\">\n",
              "      <div>\n",
              "<style scoped>\n",
              "    .dataframe tbody tr th:only-of-type {\n",
              "        vertical-align: middle;\n",
              "    }\n",
              "\n",
              "    .dataframe tbody tr th {\n",
              "        vertical-align: top;\n",
              "    }\n",
              "\n",
              "    .dataframe thead th {\n",
              "        text-align: right;\n",
              "    }\n",
              "</style>\n",
              "<table border=\"1\" class=\"dataframe\">\n",
              "  <thead>\n",
              "    <tr style=\"text-align: right;\">\n",
              "      <th></th>\n",
              "      <th>date</th>\n",
              "      <th>symbol</th>\n",
              "      <th>open</th>\n",
              "      <th>close</th>\n",
              "      <th>low</th>\n",
              "      <th>high</th>\n",
              "      <th>volume</th>\n",
              "    </tr>\n",
              "  </thead>\n",
              "  <tbody>\n",
              "    <tr>\n",
              "      <th>0</th>\n",
              "      <td>2016-01-05 00:00:00</td>\n",
              "      <td>WLTW</td>\n",
              "      <td>123.430000</td>\n",
              "      <td>125.839996</td>\n",
              "      <td>122.309998</td>\n",
              "      <td>126.250000</td>\n",
              "      <td>2163600.0</td>\n",
              "    </tr>\n",
              "    <tr>\n",
              "      <th>1</th>\n",
              "      <td>2016-01-06 00:00:00</td>\n",
              "      <td>WLTW</td>\n",
              "      <td>125.239998</td>\n",
              "      <td>119.980003</td>\n",
              "      <td>119.940002</td>\n",
              "      <td>125.540001</td>\n",
              "      <td>2386400.0</td>\n",
              "    </tr>\n",
              "    <tr>\n",
              "      <th>2</th>\n",
              "      <td>2016-01-07 00:00:00</td>\n",
              "      <td>WLTW</td>\n",
              "      <td>116.379997</td>\n",
              "      <td>114.949997</td>\n",
              "      <td>114.930000</td>\n",
              "      <td>119.739998</td>\n",
              "      <td>2489500.0</td>\n",
              "    </tr>\n",
              "    <tr>\n",
              "      <th>3</th>\n",
              "      <td>2016-01-08 00:00:00</td>\n",
              "      <td>WLTW</td>\n",
              "      <td>115.480003</td>\n",
              "      <td>116.620003</td>\n",
              "      <td>113.500000</td>\n",
              "      <td>117.440002</td>\n",
              "      <td>2006300.0</td>\n",
              "    </tr>\n",
              "    <tr>\n",
              "      <th>4</th>\n",
              "      <td>2016-01-11 00:00:00</td>\n",
              "      <td>WLTW</td>\n",
              "      <td>117.010002</td>\n",
              "      <td>114.970001</td>\n",
              "      <td>114.089996</td>\n",
              "      <td>117.330002</td>\n",
              "      <td>1408600.0</td>\n",
              "    </tr>\n",
              "    <tr>\n",
              "      <th>...</th>\n",
              "      <td>...</td>\n",
              "      <td>...</td>\n",
              "      <td>...</td>\n",
              "      <td>...</td>\n",
              "      <td>...</td>\n",
              "      <td>...</td>\n",
              "      <td>...</td>\n",
              "    </tr>\n",
              "    <tr>\n",
              "      <th>851259</th>\n",
              "      <td>2016-12-30</td>\n",
              "      <td>ZBH</td>\n",
              "      <td>103.309998</td>\n",
              "      <td>103.199997</td>\n",
              "      <td>102.849998</td>\n",
              "      <td>103.930000</td>\n",
              "      <td>973800.0</td>\n",
              "    </tr>\n",
              "    <tr>\n",
              "      <th>851260</th>\n",
              "      <td>2016-12-30</td>\n",
              "      <td>ZION</td>\n",
              "      <td>43.070000</td>\n",
              "      <td>43.040001</td>\n",
              "      <td>42.689999</td>\n",
              "      <td>43.310001</td>\n",
              "      <td>1938100.0</td>\n",
              "    </tr>\n",
              "    <tr>\n",
              "      <th>851261</th>\n",
              "      <td>2016-12-30</td>\n",
              "      <td>ZTS</td>\n",
              "      <td>53.639999</td>\n",
              "      <td>53.529999</td>\n",
              "      <td>53.270000</td>\n",
              "      <td>53.740002</td>\n",
              "      <td>1701200.0</td>\n",
              "    </tr>\n",
              "    <tr>\n",
              "      <th>851262</th>\n",
              "      <td>2016-12-30 00:00:00</td>\n",
              "      <td>AIV</td>\n",
              "      <td>44.730000</td>\n",
              "      <td>45.450001</td>\n",
              "      <td>44.410000</td>\n",
              "      <td>45.590000</td>\n",
              "      <td>1380900.0</td>\n",
              "    </tr>\n",
              "    <tr>\n",
              "      <th>851263</th>\n",
              "      <td>2016-12-30 00:00:00</td>\n",
              "      <td>FTV</td>\n",
              "      <td>54.200001</td>\n",
              "      <td>53.630001</td>\n",
              "      <td>53.389999</td>\n",
              "      <td>54.480000</td>\n",
              "      <td>705100.0</td>\n",
              "    </tr>\n",
              "  </tbody>\n",
              "</table>\n",
              "<p>851264 rows × 7 columns</p>\n",
              "</div>\n",
              "      <button class=\"colab-df-convert\" onclick=\"convertToInteractive('df-7f48e874-8f01-4ce6-b05c-00852051af82')\"\n",
              "              title=\"Convert this dataframe to an interactive table.\"\n",
              "              style=\"display:none;\">\n",
              "        \n",
              "  <svg xmlns=\"http://www.w3.org/2000/svg\" height=\"24px\"viewBox=\"0 0 24 24\"\n",
              "       width=\"24px\">\n",
              "    <path d=\"M0 0h24v24H0V0z\" fill=\"none\"/>\n",
              "    <path d=\"M18.56 5.44l.94 2.06.94-2.06 2.06-.94-2.06-.94-.94-2.06-.94 2.06-2.06.94zm-11 1L8.5 8.5l.94-2.06 2.06-.94-2.06-.94L8.5 2.5l-.94 2.06-2.06.94zm10 10l.94 2.06.94-2.06 2.06-.94-2.06-.94-.94-2.06-.94 2.06-2.06.94z\"/><path d=\"M17.41 7.96l-1.37-1.37c-.4-.4-.92-.59-1.43-.59-.52 0-1.04.2-1.43.59L10.3 9.45l-7.72 7.72c-.78.78-.78 2.05 0 2.83L4 21.41c.39.39.9.59 1.41.59.51 0 1.02-.2 1.41-.59l7.78-7.78 2.81-2.81c.8-.78.8-2.07 0-2.86zM5.41 20L4 18.59l7.72-7.72 1.47 1.35L5.41 20z\"/>\n",
              "  </svg>\n",
              "      </button>\n",
              "      \n",
              "  <style>\n",
              "    .colab-df-container {\n",
              "      display:flex;\n",
              "      flex-wrap:wrap;\n",
              "      gap: 12px;\n",
              "    }\n",
              "\n",
              "    .colab-df-convert {\n",
              "      background-color: #E8F0FE;\n",
              "      border: none;\n",
              "      border-radius: 50%;\n",
              "      cursor: pointer;\n",
              "      display: none;\n",
              "      fill: #1967D2;\n",
              "      height: 32px;\n",
              "      padding: 0 0 0 0;\n",
              "      width: 32px;\n",
              "    }\n",
              "\n",
              "    .colab-df-convert:hover {\n",
              "      background-color: #E2EBFA;\n",
              "      box-shadow: 0px 1px 2px rgba(60, 64, 67, 0.3), 0px 1px 3px 1px rgba(60, 64, 67, 0.15);\n",
              "      fill: #174EA6;\n",
              "    }\n",
              "\n",
              "    [theme=dark] .colab-df-convert {\n",
              "      background-color: #3B4455;\n",
              "      fill: #D2E3FC;\n",
              "    }\n",
              "\n",
              "    [theme=dark] .colab-df-convert:hover {\n",
              "      background-color: #434B5C;\n",
              "      box-shadow: 0px 1px 3px 1px rgba(0, 0, 0, 0.15);\n",
              "      filter: drop-shadow(0px 1px 2px rgba(0, 0, 0, 0.3));\n",
              "      fill: #FFFFFF;\n",
              "    }\n",
              "  </style>\n",
              "\n",
              "      <script>\n",
              "        const buttonEl =\n",
              "          document.querySelector('#df-7f48e874-8f01-4ce6-b05c-00852051af82 button.colab-df-convert');\n",
              "        buttonEl.style.display =\n",
              "          google.colab.kernel.accessAllowed ? 'block' : 'none';\n",
              "\n",
              "        async function convertToInteractive(key) {\n",
              "          const element = document.querySelector('#df-7f48e874-8f01-4ce6-b05c-00852051af82');\n",
              "          const dataTable =\n",
              "            await google.colab.kernel.invokeFunction('convertToInteractive',\n",
              "                                                     [key], {});\n",
              "          if (!dataTable) return;\n",
              "\n",
              "          const docLinkHtml = 'Like what you see? Visit the ' +\n",
              "            '<a target=\"_blank\" href=https://colab.research.google.com/notebooks/data_table.ipynb>data table notebook</a>'\n",
              "            + ' to learn more about interactive tables.';\n",
              "          element.innerHTML = '';\n",
              "          dataTable['output_type'] = 'display_data';\n",
              "          await google.colab.output.renderOutput(dataTable, element);\n",
              "          const docLink = document.createElement('div');\n",
              "          docLink.innerHTML = docLinkHtml;\n",
              "          element.appendChild(docLink);\n",
              "        }\n",
              "      </script>\n",
              "    </div>\n",
              "  </div>\n",
              "  "
            ]
          },
          "metadata": {}
        }
      ]
    },
    {
      "cell_type": "code",
      "source": [
        "print(df.shape)"
      ],
      "metadata": {
        "colab": {
          "base_uri": "https://localhost:8080/"
        },
        "id": "YJ0W-q8acpkU",
        "outputId": "6521da44-d130-483b-b633-a4fd9e9d17ee"
      },
      "execution_count": null,
      "outputs": [
        {
          "output_type": "stream",
          "name": "stdout",
          "text": [
            "(851264, 7)\n"
          ]
        }
      ]
    },
    {
      "cell_type": "code",
      "source": [
        "print(df.columns)"
      ],
      "metadata": {
        "colab": {
          "base_uri": "https://localhost:8080/"
        },
        "id": "InH4S5EFcpnO",
        "outputId": "96cf8324-2d6e-4741-facc-5779751b40dd"
      },
      "execution_count": null,
      "outputs": [
        {
          "output_type": "stream",
          "name": "stdout",
          "text": [
            "Index(['date', 'symbol', 'open', 'close', 'low', 'high', 'volume'], dtype='object')\n"
          ]
        }
      ]
    },
    {
      "cell_type": "code",
      "source": [
        "df.symbol.value_counts()"
      ],
      "metadata": {
        "colab": {
          "base_uri": "https://localhost:8080/"
        },
        "id": "EaqkNTaqcpqX",
        "outputId": "d96368ac-2dd4-4555-b122-8d25ea434b8f"
      },
      "execution_count": null,
      "outputs": [
        {
          "output_type": "execute_result",
          "data": {
            "text/plain": [
              "KSU     1762\n",
              "NOC     1762\n",
              "ORCL    1762\n",
              "OMC     1762\n",
              "OKE     1762\n",
              "        ... \n",
              "KHC      378\n",
              "HPE      304\n",
              "CSRA     284\n",
              "WLTW     251\n",
              "FTV      126\n",
              "Name: symbol, Length: 501, dtype: int64"
            ]
          },
          "metadata": {},
          "execution_count": 11
        }
      ]
    },
    {
      "cell_type": "code",
      "source": [
        "df.symbol.unique()"
      ],
      "metadata": {
        "colab": {
          "base_uri": "https://localhost:8080/"
        },
        "id": "0fJModDrcptP",
        "outputId": "ded7f34d-97c0-494a-a873-7fccf1732420"
      },
      "execution_count": null,
      "outputs": [
        {
          "output_type": "execute_result",
          "data": {
            "text/plain": [
              "array(['WLTW', 'A', 'AAL', 'AAP', 'AAPL', 'ABC', 'ABT', 'ACN', 'ADBE',\n",
              "       'ADI', 'ADM', 'ADP', 'ADS', 'ADSK', 'AEE', 'AEP', 'AES', 'AET',\n",
              "       'AFL', 'AGN', 'AIG', 'AIZ', 'AJG', 'AKAM', 'ALB', 'ALK', 'ALL',\n",
              "       'ALXN', 'AMAT', 'AME', 'AMG', 'AMGN', 'AMP', 'AMT', 'AMZN', 'AN',\n",
              "       'ANTM', 'AON', 'APA', 'APC', 'APD', 'APH', 'ARNC', 'ATVI', 'AVB',\n",
              "       'AVGO', 'AVY', 'AWK', 'AXP', 'AYI', 'AZO', 'BA', 'BAC', 'BAX',\n",
              "       'BBBY', 'BBT', 'BBY', 'BCR', 'BDX', 'BEN', 'BHI', 'BIIB', 'BK',\n",
              "       'BLK', 'BLL', 'BMY', 'BSX', 'BWA', 'BXP', 'C', 'CA', 'CAG', 'CAH',\n",
              "       'CAT', 'CB', 'CBG', 'CBS', 'CCI', 'CCL', 'CELG', 'CERN', 'CF',\n",
              "       'CHD', 'CHK', 'CHRW', 'CI', 'CINF', 'CL', 'CLX', 'CMA', 'CMCSA',\n",
              "       'CME', 'CMG', 'CMI', 'CMS', 'CNC', 'CNP', 'COF', 'COG', 'COH',\n",
              "       'COL', 'COO', 'COP', 'COST', 'CPB', 'CRM', 'CSCO', 'CSX', 'CTAS',\n",
              "       'CTL', 'CTSH', 'CTXS', 'CVS', 'CVX', 'CXO', 'D', 'DAL', 'DD', 'DE',\n",
              "       'DFS', 'DG', 'DGX', 'DHI', 'DHR', 'DIS', 'DISCA', 'DISCK', 'DLR',\n",
              "       'DLTR', 'DNB', 'DOV', 'DOW', 'DPS', 'DRI', 'DTE', 'DUK', 'DVA',\n",
              "       'DVN', 'EA', 'EBAY', 'ECL', 'ED', 'EFX', 'EIX', 'EL', 'EMN', 'EMR',\n",
              "       'ENDP', 'EOG', 'EQIX', 'EQR', 'EQT', 'ES', 'ESRX', 'ESS', 'ETFC',\n",
              "       'ETN', 'ETR', 'EW', 'EXC', 'EXPD', 'EXPE', 'EXR', 'F', 'FAST',\n",
              "       'FCX', 'FDX', 'FE', 'FFIV', 'FIS', 'FISV', 'FITB', 'FL', 'FLIR',\n",
              "       'FLR', 'FLS', 'FMC', 'FOX', 'FOXA', 'FRT', 'FSLR', 'FTI', 'FTR',\n",
              "       'GD', 'GE', 'GGP', 'GILD', 'GIS', 'GLW', 'GOOG', 'GOOGL', 'GPC',\n",
              "       'GPN', 'GPS', 'GRMN', 'GS', 'GT', 'GWW', 'HAL', 'HAR', 'HAS',\n",
              "       'HBAN', 'HBI', 'HCN', 'HCP', 'HD', 'HES', 'HIG', 'HOG', 'HOLX',\n",
              "       'HON', 'HP', 'HPQ', 'HRB', 'HRL', 'HRS', 'HSIC', 'HST', 'HSY',\n",
              "       'HUM', 'IBM', 'ICE', 'IDXX', 'IFF', 'ILMN', 'INTC', 'INTU', 'IP',\n",
              "       'IPG', 'IR', 'IRM', 'ISRG', 'ITW', 'IVZ', 'JBHT', 'JCI', 'JEC',\n",
              "       'JNJ', 'JNPR', 'JPM', 'JWN', 'K', 'KEY', 'KIM', 'KLAC', 'KMB',\n",
              "       'KMX', 'KO', 'KR', 'KSS', 'KSU', 'L', 'LB', 'LEG', 'LEN', 'LH',\n",
              "       'LKQ', 'LLL', 'LLTC', 'LLY', 'LMT', 'LNC', 'LNT', 'LOW', 'LRCX',\n",
              "       'LUK', 'LUV', 'LVLT', 'M', 'MA', 'MAA', 'MAC', 'MAR', 'MAS', 'MAT',\n",
              "       'MCD', 'MCHP', 'MCK', 'MCO', 'MDLZ', 'MDT', 'MET', 'MHK', 'MJN',\n",
              "       'MKC', 'MLM', 'MMC', 'MMM', 'MNST', 'MO', 'MON', 'MOS', 'MRK',\n",
              "       'MRO', 'MSFT', 'MSI', 'MTB', 'MTD', 'MU', 'MUR', 'MYL', 'NBL',\n",
              "       'NDAQ', 'NEE', 'NEM', 'NFLX', 'NFX', 'NI', 'NKE', 'NOC', 'NOV',\n",
              "       'NRG', 'NSC', 'NTAP', 'NTRS', 'NUE', 'NVDA', 'NWL', 'O', 'OKE',\n",
              "       'OMC', 'ORCL', 'ORLY', 'OXY', 'PAYX', 'PBCT', 'PBI', 'PCAR', 'PCG',\n",
              "       'PCLN', 'PDCO', 'PEG', 'PEP', 'PFE', 'PFG', 'PG', 'PGR', 'PH',\n",
              "       'PHM', 'PKI', 'PLD', 'PM', 'PNC', 'PNR', 'PNW', 'PPG', 'PPL',\n",
              "       'PRGO', 'PRU', 'PSA', 'PVH', 'PWR', 'PX', 'PXD', 'QCOM', 'R',\n",
              "       'RAI', 'RCL', 'REGN', 'RF', 'RHI', 'RHT', 'RIG', 'RL', 'ROK',\n",
              "       'ROP', 'ROST', 'RRC', 'RSG', 'RTN', 'SBUX', 'SCG', 'SCHW', 'SE',\n",
              "       'SEE', 'SHW', 'SIG', 'SJM', 'SLB', 'SLG', 'SNA', 'SNI', 'SO',\n",
              "       'SPG', 'SPGI', 'SPLS', 'SRCL', 'SRE', 'STI', 'STT', 'STX', 'STZ',\n",
              "       'SWK', 'SWKS', 'SWN', 'SYK', 'SYMC', 'SYY', 'T', 'TAP', 'TDC',\n",
              "       'TEL', 'TGNA', 'TGT', 'TIF', 'TJX', 'TMK', 'TMO', 'TROW', 'TRV',\n",
              "       'TSCO', 'TSN', 'TSO', 'TSS', 'TWX', 'TXN', 'TXT', 'UAA', 'UAL',\n",
              "       'UDR', 'UHS', 'ULTA', 'UNH', 'UNM', 'UNP', 'UPS', 'URBN', 'URI',\n",
              "       'USB', 'UTX', 'V', 'VAR', 'VFC', 'VIAB', 'VLO', 'VMC', 'VNO',\n",
              "       'VRSK', 'VRSN', 'VRTX', 'VTR', 'VZ', 'WAT', 'WBA', 'WDC', 'WEC',\n",
              "       'WFC', 'WFM', 'WHR', 'WM', 'WMB', 'WMT', 'WU', 'WY', 'WYN', 'WYNN',\n",
              "       'XEC', 'XEL', 'XL', 'XLNX', 'XOM', 'XRAY', 'XRX', 'YHOO', 'YUM',\n",
              "       'ZBH', 'ZION', 'AIV', 'CHTR', 'LYB', 'GM', 'ABBV', 'DLPH', 'FB',\n",
              "       'FBHS', 'HCA', 'KMI', 'KORS', 'MPC', 'NLSN', 'PSX', 'TDG', 'TRIP',\n",
              "       'XYL', 'ZTS', 'COTY', 'MNK', 'NWS', 'NWSA', 'EVHC', 'ALLE', 'CFG',\n",
              "       'NAVI', 'QRVO', 'SYF', 'WRK', 'KHC', 'PYPL', 'HPE', 'CSRA', 'FTV'],\n",
              "      dtype=object)"
            ]
          },
          "metadata": {},
          "execution_count": 12
        }
      ]
    },
    {
      "cell_type": "code",
      "source": [
        "display(df.symbol.unique().shape)"
      ],
      "metadata": {
        "colab": {
          "base_uri": "https://localhost:8080/",
          "height": 34
        },
        "id": "fDmP2XStcpwq",
        "outputId": "82f4e7dd-b264-4629-8274-d5f91eab24c7"
      },
      "execution_count": null,
      "outputs": [
        {
          "output_type": "display_data",
          "data": {
            "text/plain": [
              "(501,)"
            ]
          },
          "metadata": {}
        }
      ]
    },
    {
      "cell_type": "code",
      "source": [
        "df.symbol.unique()[0:20]"
      ],
      "metadata": {
        "colab": {
          "base_uri": "https://localhost:8080/"
        },
        "id": "SKLxtcQYc1kW",
        "outputId": "cf19dae1-05ee-49d6-f108-870e11e1997d"
      },
      "execution_count": null,
      "outputs": [
        {
          "output_type": "execute_result",
          "data": {
            "text/plain": [
              "array(['WLTW', 'A', 'AAL', 'AAP', 'AAPL', 'ABC', 'ABT', 'ACN', 'ADBE',\n",
              "       'ADI', 'ADM', 'ADP', 'ADS', 'ADSK', 'AEE', 'AEP', 'AES', 'AET',\n",
              "       'AFL', 'AGN'], dtype=object)"
            ]
          },
          "metadata": {},
          "execution_count": 14
        }
      ]
    },
    {
      "cell_type": "code",
      "source": [
        "print(len(df.symbol.values))"
      ],
      "metadata": {
        "colab": {
          "base_uri": "https://localhost:8080/"
        },
        "id": "WtNhH1BLc1n1",
        "outputId": "d44edf5b-29b0-4f8d-a32e-2e8ff8e44b69"
      },
      "execution_count": null,
      "outputs": [
        {
          "output_type": "stream",
          "name": "stdout",
          "text": [
            "851264\n"
          ]
        }
      ]
    },
    {
      "cell_type": "code",
      "source": [
        "df.info()"
      ],
      "metadata": {
        "colab": {
          "base_uri": "https://localhost:8080/"
        },
        "id": "bb9fHY1Mc1qi",
        "outputId": "b31fd825-d27e-4a2f-ba49-1cd2b099daba"
      },
      "execution_count": null,
      "outputs": [
        {
          "output_type": "stream",
          "name": "stdout",
          "text": [
            "<class 'pandas.core.frame.DataFrame'>\n",
            "RangeIndex: 851264 entries, 0 to 851263\n",
            "Data columns (total 7 columns):\n",
            " #   Column  Non-Null Count   Dtype  \n",
            "---  ------  --------------   -----  \n",
            " 0   date    851264 non-null  object \n",
            " 1   symbol  851264 non-null  object \n",
            " 2   open    851264 non-null  float64\n",
            " 3   close   851264 non-null  float64\n",
            " 4   low     851264 non-null  float64\n",
            " 5   high    851264 non-null  float64\n",
            " 6   volume  851264 non-null  float64\n",
            "dtypes: float64(5), object(2)\n",
            "memory usage: 45.5+ MB\n"
          ]
        }
      ]
    },
    {
      "cell_type": "code",
      "source": [
        "df.describe()"
      ],
      "metadata": {
        "colab": {
          "base_uri": "https://localhost:8080/",
          "height": 300
        },
        "id": "mDERKSUkc1sq",
        "outputId": "0b0fa825-2979-4113-c659-7366b1d7c890"
      },
      "execution_count": null,
      "outputs": [
        {
          "output_type": "execute_result",
          "data": {
            "text/plain": [
              "                open          close            low           high  \\\n",
              "count  851264.000000  851264.000000  851264.000000  851264.000000   \n",
              "mean       70.836986      70.857109      70.118414      71.543476   \n",
              "std        83.695876      83.689686      82.877294      84.465504   \n",
              "min         0.850000       0.860000       0.830000       0.880000   \n",
              "25%        33.840000      33.849998      33.480000      34.189999   \n",
              "50%        52.770000      52.799999      52.230000      53.310001   \n",
              "75%        79.879997      79.889999      79.110001      80.610001   \n",
              "max      1584.439941    1578.130005    1549.939941    1600.930054   \n",
              "\n",
              "             volume  \n",
              "count  8.512640e+05  \n",
              "mean   5.415113e+06  \n",
              "std    1.249468e+07  \n",
              "min    0.000000e+00  \n",
              "25%    1.221500e+06  \n",
              "50%    2.476250e+06  \n",
              "75%    5.222500e+06  \n",
              "max    8.596434e+08  "
            ],
            "text/html": [
              "\n",
              "  <div id=\"df-c34c8608-d151-477b-86a7-084a877090eb\">\n",
              "    <div class=\"colab-df-container\">\n",
              "      <div>\n",
              "<style scoped>\n",
              "    .dataframe tbody tr th:only-of-type {\n",
              "        vertical-align: middle;\n",
              "    }\n",
              "\n",
              "    .dataframe tbody tr th {\n",
              "        vertical-align: top;\n",
              "    }\n",
              "\n",
              "    .dataframe thead th {\n",
              "        text-align: right;\n",
              "    }\n",
              "</style>\n",
              "<table border=\"1\" class=\"dataframe\">\n",
              "  <thead>\n",
              "    <tr style=\"text-align: right;\">\n",
              "      <th></th>\n",
              "      <th>open</th>\n",
              "      <th>close</th>\n",
              "      <th>low</th>\n",
              "      <th>high</th>\n",
              "      <th>volume</th>\n",
              "    </tr>\n",
              "  </thead>\n",
              "  <tbody>\n",
              "    <tr>\n",
              "      <th>count</th>\n",
              "      <td>851264.000000</td>\n",
              "      <td>851264.000000</td>\n",
              "      <td>851264.000000</td>\n",
              "      <td>851264.000000</td>\n",
              "      <td>8.512640e+05</td>\n",
              "    </tr>\n",
              "    <tr>\n",
              "      <th>mean</th>\n",
              "      <td>70.836986</td>\n",
              "      <td>70.857109</td>\n",
              "      <td>70.118414</td>\n",
              "      <td>71.543476</td>\n",
              "      <td>5.415113e+06</td>\n",
              "    </tr>\n",
              "    <tr>\n",
              "      <th>std</th>\n",
              "      <td>83.695876</td>\n",
              "      <td>83.689686</td>\n",
              "      <td>82.877294</td>\n",
              "      <td>84.465504</td>\n",
              "      <td>1.249468e+07</td>\n",
              "    </tr>\n",
              "    <tr>\n",
              "      <th>min</th>\n",
              "      <td>0.850000</td>\n",
              "      <td>0.860000</td>\n",
              "      <td>0.830000</td>\n",
              "      <td>0.880000</td>\n",
              "      <td>0.000000e+00</td>\n",
              "    </tr>\n",
              "    <tr>\n",
              "      <th>25%</th>\n",
              "      <td>33.840000</td>\n",
              "      <td>33.849998</td>\n",
              "      <td>33.480000</td>\n",
              "      <td>34.189999</td>\n",
              "      <td>1.221500e+06</td>\n",
              "    </tr>\n",
              "    <tr>\n",
              "      <th>50%</th>\n",
              "      <td>52.770000</td>\n",
              "      <td>52.799999</td>\n",
              "      <td>52.230000</td>\n",
              "      <td>53.310001</td>\n",
              "      <td>2.476250e+06</td>\n",
              "    </tr>\n",
              "    <tr>\n",
              "      <th>75%</th>\n",
              "      <td>79.879997</td>\n",
              "      <td>79.889999</td>\n",
              "      <td>79.110001</td>\n",
              "      <td>80.610001</td>\n",
              "      <td>5.222500e+06</td>\n",
              "    </tr>\n",
              "    <tr>\n",
              "      <th>max</th>\n",
              "      <td>1584.439941</td>\n",
              "      <td>1578.130005</td>\n",
              "      <td>1549.939941</td>\n",
              "      <td>1600.930054</td>\n",
              "      <td>8.596434e+08</td>\n",
              "    </tr>\n",
              "  </tbody>\n",
              "</table>\n",
              "</div>\n",
              "      <button class=\"colab-df-convert\" onclick=\"convertToInteractive('df-c34c8608-d151-477b-86a7-084a877090eb')\"\n",
              "              title=\"Convert this dataframe to an interactive table.\"\n",
              "              style=\"display:none;\">\n",
              "        \n",
              "  <svg xmlns=\"http://www.w3.org/2000/svg\" height=\"24px\"viewBox=\"0 0 24 24\"\n",
              "       width=\"24px\">\n",
              "    <path d=\"M0 0h24v24H0V0z\" fill=\"none\"/>\n",
              "    <path d=\"M18.56 5.44l.94 2.06.94-2.06 2.06-.94-2.06-.94-.94-2.06-.94 2.06-2.06.94zm-11 1L8.5 8.5l.94-2.06 2.06-.94-2.06-.94L8.5 2.5l-.94 2.06-2.06.94zm10 10l.94 2.06.94-2.06 2.06-.94-2.06-.94-.94-2.06-.94 2.06-2.06.94z\"/><path d=\"M17.41 7.96l-1.37-1.37c-.4-.4-.92-.59-1.43-.59-.52 0-1.04.2-1.43.59L10.3 9.45l-7.72 7.72c-.78.78-.78 2.05 0 2.83L4 21.41c.39.39.9.59 1.41.59.51 0 1.02-.2 1.41-.59l7.78-7.78 2.81-2.81c.8-.78.8-2.07 0-2.86zM5.41 20L4 18.59l7.72-7.72 1.47 1.35L5.41 20z\"/>\n",
              "  </svg>\n",
              "      </button>\n",
              "      \n",
              "  <style>\n",
              "    .colab-df-container {\n",
              "      display:flex;\n",
              "      flex-wrap:wrap;\n",
              "      gap: 12px;\n",
              "    }\n",
              "\n",
              "    .colab-df-convert {\n",
              "      background-color: #E8F0FE;\n",
              "      border: none;\n",
              "      border-radius: 50%;\n",
              "      cursor: pointer;\n",
              "      display: none;\n",
              "      fill: #1967D2;\n",
              "      height: 32px;\n",
              "      padding: 0 0 0 0;\n",
              "      width: 32px;\n",
              "    }\n",
              "\n",
              "    .colab-df-convert:hover {\n",
              "      background-color: #E2EBFA;\n",
              "      box-shadow: 0px 1px 2px rgba(60, 64, 67, 0.3), 0px 1px 3px 1px rgba(60, 64, 67, 0.15);\n",
              "      fill: #174EA6;\n",
              "    }\n",
              "\n",
              "    [theme=dark] .colab-df-convert {\n",
              "      background-color: #3B4455;\n",
              "      fill: #D2E3FC;\n",
              "    }\n",
              "\n",
              "    [theme=dark] .colab-df-convert:hover {\n",
              "      background-color: #434B5C;\n",
              "      box-shadow: 0px 1px 3px 1px rgba(0, 0, 0, 0.15);\n",
              "      filter: drop-shadow(0px 1px 2px rgba(0, 0, 0, 0.3));\n",
              "      fill: #FFFFFF;\n",
              "    }\n",
              "  </style>\n",
              "\n",
              "      <script>\n",
              "        const buttonEl =\n",
              "          document.querySelector('#df-c34c8608-d151-477b-86a7-084a877090eb button.colab-df-convert');\n",
              "        buttonEl.style.display =\n",
              "          google.colab.kernel.accessAllowed ? 'block' : 'none';\n",
              "\n",
              "        async function convertToInteractive(key) {\n",
              "          const element = document.querySelector('#df-c34c8608-d151-477b-86a7-084a877090eb');\n",
              "          const dataTable =\n",
              "            await google.colab.kernel.invokeFunction('convertToInteractive',\n",
              "                                                     [key], {});\n",
              "          if (!dataTable) return;\n",
              "\n",
              "          const docLinkHtml = 'Like what you see? Visit the ' +\n",
              "            '<a target=\"_blank\" href=https://colab.research.google.com/notebooks/data_table.ipynb>data table notebook</a>'\n",
              "            + ' to learn more about interactive tables.';\n",
              "          element.innerHTML = '';\n",
              "          dataTable['output_type'] = 'display_data';\n",
              "          await google.colab.output.renderOutput(dataTable, element);\n",
              "          const docLink = document.createElement('div');\n",
              "          docLink.innerHTML = docLinkHtml;\n",
              "          element.appendChild(docLink);\n",
              "        }\n",
              "      </script>\n",
              "    </div>\n",
              "  </div>\n",
              "  "
            ]
          },
          "metadata": {},
          "execution_count": 17
        }
      ]
    },
    {
      "cell_type": "code",
      "source": [
        "df.isnull().sum()"
      ],
      "metadata": {
        "colab": {
          "base_uri": "https://localhost:8080/"
        },
        "id": "NqzIfH35egCp",
        "outputId": "7e1246eb-1140-45b0-8fc4-d152afc5737d"
      },
      "execution_count": null,
      "outputs": [
        {
          "output_type": "execute_result",
          "data": {
            "text/plain": [
              "date      0\n",
              "symbol    0\n",
              "open      0\n",
              "close     0\n",
              "low       0\n",
              "high      0\n",
              "volume    0\n",
              "dtype: int64"
            ]
          },
          "metadata": {},
          "execution_count": 18
        }
      ]
    },
    {
      "cell_type": "code",
      "source": [
        "df.date.unique()"
      ],
      "metadata": {
        "colab": {
          "base_uri": "https://localhost:8080/"
        },
        "id": "Ym2h3TUkegEE",
        "outputId": "d3f45284-fe97-492c-8681-a8467144e973"
      },
      "execution_count": null,
      "outputs": [
        {
          "output_type": "execute_result",
          "data": {
            "text/plain": [
              "array(['2016-01-05 00:00:00', '2016-01-06 00:00:00',\n",
              "       '2016-01-07 00:00:00', ..., '2016-12-28', '2016-12-29',\n",
              "       '2016-12-30'], dtype=object)"
            ]
          },
          "metadata": {},
          "execution_count": 19
        }
      ]
    },
    {
      "cell_type": "code",
      "source": [
        "pd.DataFrame(df.date.unique())"
      ],
      "metadata": {
        "colab": {
          "base_uri": "https://localhost:8080/",
          "height": 423
        },
        "id": "Uu4LI5teegKG",
        "outputId": "b7a49eb6-ee07-4627-8c85-433b183cee8b"
      },
      "execution_count": null,
      "outputs": [
        {
          "output_type": "execute_result",
          "data": {
            "text/plain": [
              "                        0\n",
              "0     2016-01-05 00:00:00\n",
              "1     2016-01-06 00:00:00\n",
              "2     2016-01-07 00:00:00\n",
              "3     2016-01-08 00:00:00\n",
              "4     2016-01-11 00:00:00\n",
              "...                   ...\n",
              "3519           2016-12-23\n",
              "3520           2016-12-27\n",
              "3521           2016-12-28\n",
              "3522           2016-12-29\n",
              "3523           2016-12-30\n",
              "\n",
              "[3524 rows x 1 columns]"
            ],
            "text/html": [
              "\n",
              "  <div id=\"df-124193c9-5ead-4961-bbc5-1b0e211c9b78\">\n",
              "    <div class=\"colab-df-container\">\n",
              "      <div>\n",
              "<style scoped>\n",
              "    .dataframe tbody tr th:only-of-type {\n",
              "        vertical-align: middle;\n",
              "    }\n",
              "\n",
              "    .dataframe tbody tr th {\n",
              "        vertical-align: top;\n",
              "    }\n",
              "\n",
              "    .dataframe thead th {\n",
              "        text-align: right;\n",
              "    }\n",
              "</style>\n",
              "<table border=\"1\" class=\"dataframe\">\n",
              "  <thead>\n",
              "    <tr style=\"text-align: right;\">\n",
              "      <th></th>\n",
              "      <th>0</th>\n",
              "    </tr>\n",
              "  </thead>\n",
              "  <tbody>\n",
              "    <tr>\n",
              "      <th>0</th>\n",
              "      <td>2016-01-05 00:00:00</td>\n",
              "    </tr>\n",
              "    <tr>\n",
              "      <th>1</th>\n",
              "      <td>2016-01-06 00:00:00</td>\n",
              "    </tr>\n",
              "    <tr>\n",
              "      <th>2</th>\n",
              "      <td>2016-01-07 00:00:00</td>\n",
              "    </tr>\n",
              "    <tr>\n",
              "      <th>3</th>\n",
              "      <td>2016-01-08 00:00:00</td>\n",
              "    </tr>\n",
              "    <tr>\n",
              "      <th>4</th>\n",
              "      <td>2016-01-11 00:00:00</td>\n",
              "    </tr>\n",
              "    <tr>\n",
              "      <th>...</th>\n",
              "      <td>...</td>\n",
              "    </tr>\n",
              "    <tr>\n",
              "      <th>3519</th>\n",
              "      <td>2016-12-23</td>\n",
              "    </tr>\n",
              "    <tr>\n",
              "      <th>3520</th>\n",
              "      <td>2016-12-27</td>\n",
              "    </tr>\n",
              "    <tr>\n",
              "      <th>3521</th>\n",
              "      <td>2016-12-28</td>\n",
              "    </tr>\n",
              "    <tr>\n",
              "      <th>3522</th>\n",
              "      <td>2016-12-29</td>\n",
              "    </tr>\n",
              "    <tr>\n",
              "      <th>3523</th>\n",
              "      <td>2016-12-30</td>\n",
              "    </tr>\n",
              "  </tbody>\n",
              "</table>\n",
              "<p>3524 rows × 1 columns</p>\n",
              "</div>\n",
              "      <button class=\"colab-df-convert\" onclick=\"convertToInteractive('df-124193c9-5ead-4961-bbc5-1b0e211c9b78')\"\n",
              "              title=\"Convert this dataframe to an interactive table.\"\n",
              "              style=\"display:none;\">\n",
              "        \n",
              "  <svg xmlns=\"http://www.w3.org/2000/svg\" height=\"24px\"viewBox=\"0 0 24 24\"\n",
              "       width=\"24px\">\n",
              "    <path d=\"M0 0h24v24H0V0z\" fill=\"none\"/>\n",
              "    <path d=\"M18.56 5.44l.94 2.06.94-2.06 2.06-.94-2.06-.94-.94-2.06-.94 2.06-2.06.94zm-11 1L8.5 8.5l.94-2.06 2.06-.94-2.06-.94L8.5 2.5l-.94 2.06-2.06.94zm10 10l.94 2.06.94-2.06 2.06-.94-2.06-.94-.94-2.06-.94 2.06-2.06.94z\"/><path d=\"M17.41 7.96l-1.37-1.37c-.4-.4-.92-.59-1.43-.59-.52 0-1.04.2-1.43.59L10.3 9.45l-7.72 7.72c-.78.78-.78 2.05 0 2.83L4 21.41c.39.39.9.59 1.41.59.51 0 1.02-.2 1.41-.59l7.78-7.78 2.81-2.81c.8-.78.8-2.07 0-2.86zM5.41 20L4 18.59l7.72-7.72 1.47 1.35L5.41 20z\"/>\n",
              "  </svg>\n",
              "      </button>\n",
              "      \n",
              "  <style>\n",
              "    .colab-df-container {\n",
              "      display:flex;\n",
              "      flex-wrap:wrap;\n",
              "      gap: 12px;\n",
              "    }\n",
              "\n",
              "    .colab-df-convert {\n",
              "      background-color: #E8F0FE;\n",
              "      border: none;\n",
              "      border-radius: 50%;\n",
              "      cursor: pointer;\n",
              "      display: none;\n",
              "      fill: #1967D2;\n",
              "      height: 32px;\n",
              "      padding: 0 0 0 0;\n",
              "      width: 32px;\n",
              "    }\n",
              "\n",
              "    .colab-df-convert:hover {\n",
              "      background-color: #E2EBFA;\n",
              "      box-shadow: 0px 1px 2px rgba(60, 64, 67, 0.3), 0px 1px 3px 1px rgba(60, 64, 67, 0.15);\n",
              "      fill: #174EA6;\n",
              "    }\n",
              "\n",
              "    [theme=dark] .colab-df-convert {\n",
              "      background-color: #3B4455;\n",
              "      fill: #D2E3FC;\n",
              "    }\n",
              "\n",
              "    [theme=dark] .colab-df-convert:hover {\n",
              "      background-color: #434B5C;\n",
              "      box-shadow: 0px 1px 3px 1px rgba(0, 0, 0, 0.15);\n",
              "      filter: drop-shadow(0px 1px 2px rgba(0, 0, 0, 0.3));\n",
              "      fill: #FFFFFF;\n",
              "    }\n",
              "  </style>\n",
              "\n",
              "      <script>\n",
              "        const buttonEl =\n",
              "          document.querySelector('#df-124193c9-5ead-4961-bbc5-1b0e211c9b78 button.colab-df-convert');\n",
              "        buttonEl.style.display =\n",
              "          google.colab.kernel.accessAllowed ? 'block' : 'none';\n",
              "\n",
              "        async function convertToInteractive(key) {\n",
              "          const element = document.querySelector('#df-124193c9-5ead-4961-bbc5-1b0e211c9b78');\n",
              "          const dataTable =\n",
              "            await google.colab.kernel.invokeFunction('convertToInteractive',\n",
              "                                                     [key], {});\n",
              "          if (!dataTable) return;\n",
              "\n",
              "          const docLinkHtml = 'Like what you see? Visit the ' +\n",
              "            '<a target=\"_blank\" href=https://colab.research.google.com/notebooks/data_table.ipynb>data table notebook</a>'\n",
              "            + ' to learn more about interactive tables.';\n",
              "          element.innerHTML = '';\n",
              "          dataTable['output_type'] = 'display_data';\n",
              "          await google.colab.output.renderOutput(dataTable, element);\n",
              "          const docLink = document.createElement('div');\n",
              "          docLink.innerHTML = docLinkHtml;\n",
              "          element.appendChild(docLink);\n",
              "        }\n",
              "      </script>\n",
              "    </div>\n",
              "  </div>\n",
              "  "
            ]
          },
          "metadata": {},
          "execution_count": 20
        }
      ]
    },
    {
      "cell_type": "code",
      "source": [
        "df.duplicated().sum()"
      ],
      "metadata": {
        "colab": {
          "base_uri": "https://localhost:8080/"
        },
        "id": "axhpdrUdfOZb",
        "outputId": "626ff40c-25b6-4405-fb16-74d3e5573a5f"
      },
      "execution_count": null,
      "outputs": [
        {
          "output_type": "execute_result",
          "data": {
            "text/plain": [
              "0"
            ]
          },
          "metadata": {},
          "execution_count": 21
        }
      ]
    },
    {
      "cell_type": "code",
      "source": [
        "#Calling the file in nyse named securities.csv, It has the company details \n",
        "comp_info = pd.read_csv('/content/securities.csv')\n",
        "comp_info\n"
      ],
      "metadata": {
        "colab": {
          "base_uri": "https://localhost:8080/",
          "height": 710
        },
        "id": "Yrlzn0mhfObP",
        "outputId": "bef6e936-2778-4123-cffe-1f3b1a137c6f"
      },
      "execution_count": null,
      "outputs": [
        {
          "output_type": "execute_result",
          "data": {
            "text/plain": [
              "    Ticker symbol                Security SEC filings             GICS Sector  \\\n",
              "0             MMM              3M Company     reports             Industrials   \n",
              "1             ABT     Abbott Laboratories     reports             Health Care   \n",
              "2            ABBV                  AbbVie     reports             Health Care   \n",
              "3             ACN           Accenture plc     reports  Information Technology   \n",
              "4            ATVI     Activision Blizzard     reports  Information Technology   \n",
              "..            ...                     ...         ...                     ...   \n",
              "500          YHOO              Yahoo Inc.     reports  Information Technology   \n",
              "501           YUM         Yum! Brands Inc     reports  Consumer Discretionary   \n",
              "502           ZBH  Zimmer Biomet Holdings     reports             Health Care   \n",
              "503          ZION           Zions Bancorp     reports              Financials   \n",
              "504           ZTS                  Zoetis     reports             Health Care   \n",
              "\n",
              "                  GICS Sub Industry   Address of Headquarters  \\\n",
              "0          Industrial Conglomerates       St. Paul, Minnesota   \n",
              "1             Health Care Equipment   North Chicago, Illinois   \n",
              "2                   Pharmaceuticals   North Chicago, Illinois   \n",
              "3    IT Consulting & Other Services           Dublin, Ireland   \n",
              "4       Home Entertainment Software  Santa Monica, California   \n",
              "..                              ...                       ...   \n",
              "500    Internet Software & Services     Sunnyvale, California   \n",
              "501                     Restaurants      Louisville, Kentucky   \n",
              "502           Health Care Equipment           Warsaw, Indiana   \n",
              "503                  Regional Banks      Salt Lake City, Utah   \n",
              "504                 Pharmaceuticals  Florham Park, New Jersey   \n",
              "\n",
              "    Date first added      CIK  \n",
              "0                NaN    66740  \n",
              "1         31-03-1964     1800  \n",
              "2         31-12-2012  1551152  \n",
              "3         06-07-2011  1467373  \n",
              "4         31-08-2015   718877  \n",
              "..               ...      ...  \n",
              "500              NaN  1011006  \n",
              "501       06-10-1997  1041061  \n",
              "502              NaN  1136869  \n",
              "503              NaN   109380  \n",
              "504       21-06-2013  1555280  \n",
              "\n",
              "[505 rows x 8 columns]"
            ],
            "text/html": [
              "\n",
              "  <div id=\"df-33cd7c64-99b4-44d9-a28b-531f7f350e00\">\n",
              "    <div class=\"colab-df-container\">\n",
              "      <div>\n",
              "<style scoped>\n",
              "    .dataframe tbody tr th:only-of-type {\n",
              "        vertical-align: middle;\n",
              "    }\n",
              "\n",
              "    .dataframe tbody tr th {\n",
              "        vertical-align: top;\n",
              "    }\n",
              "\n",
              "    .dataframe thead th {\n",
              "        text-align: right;\n",
              "    }\n",
              "</style>\n",
              "<table border=\"1\" class=\"dataframe\">\n",
              "  <thead>\n",
              "    <tr style=\"text-align: right;\">\n",
              "      <th></th>\n",
              "      <th>Ticker symbol</th>\n",
              "      <th>Security</th>\n",
              "      <th>SEC filings</th>\n",
              "      <th>GICS Sector</th>\n",
              "      <th>GICS Sub Industry</th>\n",
              "      <th>Address of Headquarters</th>\n",
              "      <th>Date first added</th>\n",
              "      <th>CIK</th>\n",
              "    </tr>\n",
              "  </thead>\n",
              "  <tbody>\n",
              "    <tr>\n",
              "      <th>0</th>\n",
              "      <td>MMM</td>\n",
              "      <td>3M Company</td>\n",
              "      <td>reports</td>\n",
              "      <td>Industrials</td>\n",
              "      <td>Industrial Conglomerates</td>\n",
              "      <td>St. Paul, Minnesota</td>\n",
              "      <td>NaN</td>\n",
              "      <td>66740</td>\n",
              "    </tr>\n",
              "    <tr>\n",
              "      <th>1</th>\n",
              "      <td>ABT</td>\n",
              "      <td>Abbott Laboratories</td>\n",
              "      <td>reports</td>\n",
              "      <td>Health Care</td>\n",
              "      <td>Health Care Equipment</td>\n",
              "      <td>North Chicago, Illinois</td>\n",
              "      <td>31-03-1964</td>\n",
              "      <td>1800</td>\n",
              "    </tr>\n",
              "    <tr>\n",
              "      <th>2</th>\n",
              "      <td>ABBV</td>\n",
              "      <td>AbbVie</td>\n",
              "      <td>reports</td>\n",
              "      <td>Health Care</td>\n",
              "      <td>Pharmaceuticals</td>\n",
              "      <td>North Chicago, Illinois</td>\n",
              "      <td>31-12-2012</td>\n",
              "      <td>1551152</td>\n",
              "    </tr>\n",
              "    <tr>\n",
              "      <th>3</th>\n",
              "      <td>ACN</td>\n",
              "      <td>Accenture plc</td>\n",
              "      <td>reports</td>\n",
              "      <td>Information Technology</td>\n",
              "      <td>IT Consulting &amp; Other Services</td>\n",
              "      <td>Dublin, Ireland</td>\n",
              "      <td>06-07-2011</td>\n",
              "      <td>1467373</td>\n",
              "    </tr>\n",
              "    <tr>\n",
              "      <th>4</th>\n",
              "      <td>ATVI</td>\n",
              "      <td>Activision Blizzard</td>\n",
              "      <td>reports</td>\n",
              "      <td>Information Technology</td>\n",
              "      <td>Home Entertainment Software</td>\n",
              "      <td>Santa Monica, California</td>\n",
              "      <td>31-08-2015</td>\n",
              "      <td>718877</td>\n",
              "    </tr>\n",
              "    <tr>\n",
              "      <th>...</th>\n",
              "      <td>...</td>\n",
              "      <td>...</td>\n",
              "      <td>...</td>\n",
              "      <td>...</td>\n",
              "      <td>...</td>\n",
              "      <td>...</td>\n",
              "      <td>...</td>\n",
              "      <td>...</td>\n",
              "    </tr>\n",
              "    <tr>\n",
              "      <th>500</th>\n",
              "      <td>YHOO</td>\n",
              "      <td>Yahoo Inc.</td>\n",
              "      <td>reports</td>\n",
              "      <td>Information Technology</td>\n",
              "      <td>Internet Software &amp; Services</td>\n",
              "      <td>Sunnyvale, California</td>\n",
              "      <td>NaN</td>\n",
              "      <td>1011006</td>\n",
              "    </tr>\n",
              "    <tr>\n",
              "      <th>501</th>\n",
              "      <td>YUM</td>\n",
              "      <td>Yum! Brands Inc</td>\n",
              "      <td>reports</td>\n",
              "      <td>Consumer Discretionary</td>\n",
              "      <td>Restaurants</td>\n",
              "      <td>Louisville, Kentucky</td>\n",
              "      <td>06-10-1997</td>\n",
              "      <td>1041061</td>\n",
              "    </tr>\n",
              "    <tr>\n",
              "      <th>502</th>\n",
              "      <td>ZBH</td>\n",
              "      <td>Zimmer Biomet Holdings</td>\n",
              "      <td>reports</td>\n",
              "      <td>Health Care</td>\n",
              "      <td>Health Care Equipment</td>\n",
              "      <td>Warsaw, Indiana</td>\n",
              "      <td>NaN</td>\n",
              "      <td>1136869</td>\n",
              "    </tr>\n",
              "    <tr>\n",
              "      <th>503</th>\n",
              "      <td>ZION</td>\n",
              "      <td>Zions Bancorp</td>\n",
              "      <td>reports</td>\n",
              "      <td>Financials</td>\n",
              "      <td>Regional Banks</td>\n",
              "      <td>Salt Lake City, Utah</td>\n",
              "      <td>NaN</td>\n",
              "      <td>109380</td>\n",
              "    </tr>\n",
              "    <tr>\n",
              "      <th>504</th>\n",
              "      <td>ZTS</td>\n",
              "      <td>Zoetis</td>\n",
              "      <td>reports</td>\n",
              "      <td>Health Care</td>\n",
              "      <td>Pharmaceuticals</td>\n",
              "      <td>Florham Park, New Jersey</td>\n",
              "      <td>21-06-2013</td>\n",
              "      <td>1555280</td>\n",
              "    </tr>\n",
              "  </tbody>\n",
              "</table>\n",
              "<p>505 rows × 8 columns</p>\n",
              "</div>\n",
              "      <button class=\"colab-df-convert\" onclick=\"convertToInteractive('df-33cd7c64-99b4-44d9-a28b-531f7f350e00')\"\n",
              "              title=\"Convert this dataframe to an interactive table.\"\n",
              "              style=\"display:none;\">\n",
              "        \n",
              "  <svg xmlns=\"http://www.w3.org/2000/svg\" height=\"24px\"viewBox=\"0 0 24 24\"\n",
              "       width=\"24px\">\n",
              "    <path d=\"M0 0h24v24H0V0z\" fill=\"none\"/>\n",
              "    <path d=\"M18.56 5.44l.94 2.06.94-2.06 2.06-.94-2.06-.94-.94-2.06-.94 2.06-2.06.94zm-11 1L8.5 8.5l.94-2.06 2.06-.94-2.06-.94L8.5 2.5l-.94 2.06-2.06.94zm10 10l.94 2.06.94-2.06 2.06-.94-2.06-.94-.94-2.06-.94 2.06-2.06.94z\"/><path d=\"M17.41 7.96l-1.37-1.37c-.4-.4-.92-.59-1.43-.59-.52 0-1.04.2-1.43.59L10.3 9.45l-7.72 7.72c-.78.78-.78 2.05 0 2.83L4 21.41c.39.39.9.59 1.41.59.51 0 1.02-.2 1.41-.59l7.78-7.78 2.81-2.81c.8-.78.8-2.07 0-2.86zM5.41 20L4 18.59l7.72-7.72 1.47 1.35L5.41 20z\"/>\n",
              "  </svg>\n",
              "      </button>\n",
              "      \n",
              "  <style>\n",
              "    .colab-df-container {\n",
              "      display:flex;\n",
              "      flex-wrap:wrap;\n",
              "      gap: 12px;\n",
              "    }\n",
              "\n",
              "    .colab-df-convert {\n",
              "      background-color: #E8F0FE;\n",
              "      border: none;\n",
              "      border-radius: 50%;\n",
              "      cursor: pointer;\n",
              "      display: none;\n",
              "      fill: #1967D2;\n",
              "      height: 32px;\n",
              "      padding: 0 0 0 0;\n",
              "      width: 32px;\n",
              "    }\n",
              "\n",
              "    .colab-df-convert:hover {\n",
              "      background-color: #E2EBFA;\n",
              "      box-shadow: 0px 1px 2px rgba(60, 64, 67, 0.3), 0px 1px 3px 1px rgba(60, 64, 67, 0.15);\n",
              "      fill: #174EA6;\n",
              "    }\n",
              "\n",
              "    [theme=dark] .colab-df-convert {\n",
              "      background-color: #3B4455;\n",
              "      fill: #D2E3FC;\n",
              "    }\n",
              "\n",
              "    [theme=dark] .colab-df-convert:hover {\n",
              "      background-color: #434B5C;\n",
              "      box-shadow: 0px 1px 3px 1px rgba(0, 0, 0, 0.15);\n",
              "      filter: drop-shadow(0px 1px 2px rgba(0, 0, 0, 0.3));\n",
              "      fill: #FFFFFF;\n",
              "    }\n",
              "  </style>\n",
              "\n",
              "      <script>\n",
              "        const buttonEl =\n",
              "          document.querySelector('#df-33cd7c64-99b4-44d9-a28b-531f7f350e00 button.colab-df-convert');\n",
              "        buttonEl.style.display =\n",
              "          google.colab.kernel.accessAllowed ? 'block' : 'none';\n",
              "\n",
              "        async function convertToInteractive(key) {\n",
              "          const element = document.querySelector('#df-33cd7c64-99b4-44d9-a28b-531f7f350e00');\n",
              "          const dataTable =\n",
              "            await google.colab.kernel.invokeFunction('convertToInteractive',\n",
              "                                                     [key], {});\n",
              "          if (!dataTable) return;\n",
              "\n",
              "          const docLinkHtml = 'Like what you see? Visit the ' +\n",
              "            '<a target=\"_blank\" href=https://colab.research.google.com/notebooks/data_table.ipynb>data table notebook</a>'\n",
              "            + ' to learn more about interactive tables.';\n",
              "          element.innerHTML = '';\n",
              "          dataTable['output_type'] = 'display_data';\n",
              "          await google.colab.output.renderOutput(dataTable, element);\n",
              "          const docLink = document.createElement('div');\n",
              "          docLink.innerHTML = docLinkHtml;\n",
              "          element.appendChild(docLink);\n",
              "        }\n",
              "      </script>\n",
              "    </div>\n",
              "  </div>\n",
              "  "
            ]
          },
          "metadata": {},
          "execution_count": 23
        }
      ]
    },
    {
      "cell_type": "code",
      "source": [
        "comp_info[\"Ticker symbol\"].nunique()"
      ],
      "metadata": {
        "colab": {
          "base_uri": "https://localhost:8080/"
        },
        "id": "CXVnt2o4fOez",
        "outputId": "038ee4ca-a789-4c1e-d3ce-f73a83362191"
      },
      "execution_count": null,
      "outputs": [
        {
          "output_type": "execute_result",
          "data": {
            "text/plain": [
              "505"
            ]
          },
          "metadata": {},
          "execution_count": 24
        }
      ]
    },
    {
      "cell_type": "code",
      "source": [
        "comp_info.info()"
      ],
      "metadata": {
        "colab": {
          "base_uri": "https://localhost:8080/"
        },
        "id": "FFeCD-dVfOgZ",
        "outputId": "919e1609-b3fe-4787-fc02-8cec36d4d267"
      },
      "execution_count": null,
      "outputs": [
        {
          "output_type": "stream",
          "name": "stdout",
          "text": [
            "<class 'pandas.core.frame.DataFrame'>\n",
            "RangeIndex: 505 entries, 0 to 504\n",
            "Data columns (total 8 columns):\n",
            " #   Column                   Non-Null Count  Dtype \n",
            "---  ------                   --------------  ----- \n",
            " 0   Ticker symbol            505 non-null    object\n",
            " 1   Security                 505 non-null    object\n",
            " 2   SEC filings              505 non-null    object\n",
            " 3   GICS Sector              505 non-null    object\n",
            " 4   GICS Sub Industry        505 non-null    object\n",
            " 5   Address of Headquarters  505 non-null    object\n",
            " 6   Date first added         307 non-null    object\n",
            " 7   CIK                      505 non-null    int64 \n",
            "dtypes: int64(1), object(7)\n",
            "memory usage: 31.7+ KB\n"
          ]
        }
      ]
    },
    {
      "cell_type": "code",
      "source": [
        "comp_info.isnull().sum()"
      ],
      "metadata": {
        "colab": {
          "base_uri": "https://localhost:8080/"
        },
        "id": "uuQV28UifOlM",
        "outputId": "b087fe85-8fa7-4459-c317-08abee5f6a87"
      },
      "execution_count": null,
      "outputs": [
        {
          "output_type": "execute_result",
          "data": {
            "text/plain": [
              "Ticker symbol                0\n",
              "Security                     0\n",
              "SEC filings                  0\n",
              "GICS Sector                  0\n",
              "GICS Sub Industry            0\n",
              "Address of Headquarters      0\n",
              "Date first added           198\n",
              "CIK                          0\n",
              "dtype: int64"
            ]
          },
          "metadata": {},
          "execution_count": 26
        }
      ]
    },
    {
      "cell_type": "code",
      "source": [
        "comp_info.describe()"
      ],
      "metadata": {
        "colab": {
          "base_uri": "https://localhost:8080/",
          "height": 300
        },
        "id": "tUdcvKnRhq4m",
        "outputId": "69cde3b9-6d1c-4c62-dbef-618c46daa097"
      },
      "execution_count": null,
      "outputs": [
        {
          "output_type": "execute_result",
          "data": {
            "text/plain": [
              "                CIK\n",
              "count  5.050000e+02\n",
              "mean   7.074490e+05\n",
              "std    5.144375e+05\n",
              "min    1.800000e+03\n",
              "25%    8.631200e+04\n",
              "50%    8.310010e+05\n",
              "75%    1.075531e+06\n",
              "max    1.659166e+06"
            ],
            "text/html": [
              "\n",
              "  <div id=\"df-3269be87-9576-4280-9d00-c2367d48272c\">\n",
              "    <div class=\"colab-df-container\">\n",
              "      <div>\n",
              "<style scoped>\n",
              "    .dataframe tbody tr th:only-of-type {\n",
              "        vertical-align: middle;\n",
              "    }\n",
              "\n",
              "    .dataframe tbody tr th {\n",
              "        vertical-align: top;\n",
              "    }\n",
              "\n",
              "    .dataframe thead th {\n",
              "        text-align: right;\n",
              "    }\n",
              "</style>\n",
              "<table border=\"1\" class=\"dataframe\">\n",
              "  <thead>\n",
              "    <tr style=\"text-align: right;\">\n",
              "      <th></th>\n",
              "      <th>CIK</th>\n",
              "    </tr>\n",
              "  </thead>\n",
              "  <tbody>\n",
              "    <tr>\n",
              "      <th>count</th>\n",
              "      <td>5.050000e+02</td>\n",
              "    </tr>\n",
              "    <tr>\n",
              "      <th>mean</th>\n",
              "      <td>7.074490e+05</td>\n",
              "    </tr>\n",
              "    <tr>\n",
              "      <th>std</th>\n",
              "      <td>5.144375e+05</td>\n",
              "    </tr>\n",
              "    <tr>\n",
              "      <th>min</th>\n",
              "      <td>1.800000e+03</td>\n",
              "    </tr>\n",
              "    <tr>\n",
              "      <th>25%</th>\n",
              "      <td>8.631200e+04</td>\n",
              "    </tr>\n",
              "    <tr>\n",
              "      <th>50%</th>\n",
              "      <td>8.310010e+05</td>\n",
              "    </tr>\n",
              "    <tr>\n",
              "      <th>75%</th>\n",
              "      <td>1.075531e+06</td>\n",
              "    </tr>\n",
              "    <tr>\n",
              "      <th>max</th>\n",
              "      <td>1.659166e+06</td>\n",
              "    </tr>\n",
              "  </tbody>\n",
              "</table>\n",
              "</div>\n",
              "      <button class=\"colab-df-convert\" onclick=\"convertToInteractive('df-3269be87-9576-4280-9d00-c2367d48272c')\"\n",
              "              title=\"Convert this dataframe to an interactive table.\"\n",
              "              style=\"display:none;\">\n",
              "        \n",
              "  <svg xmlns=\"http://www.w3.org/2000/svg\" height=\"24px\"viewBox=\"0 0 24 24\"\n",
              "       width=\"24px\">\n",
              "    <path d=\"M0 0h24v24H0V0z\" fill=\"none\"/>\n",
              "    <path d=\"M18.56 5.44l.94 2.06.94-2.06 2.06-.94-2.06-.94-.94-2.06-.94 2.06-2.06.94zm-11 1L8.5 8.5l.94-2.06 2.06-.94-2.06-.94L8.5 2.5l-.94 2.06-2.06.94zm10 10l.94 2.06.94-2.06 2.06-.94-2.06-.94-.94-2.06-.94 2.06-2.06.94z\"/><path d=\"M17.41 7.96l-1.37-1.37c-.4-.4-.92-.59-1.43-.59-.52 0-1.04.2-1.43.59L10.3 9.45l-7.72 7.72c-.78.78-.78 2.05 0 2.83L4 21.41c.39.39.9.59 1.41.59.51 0 1.02-.2 1.41-.59l7.78-7.78 2.81-2.81c.8-.78.8-2.07 0-2.86zM5.41 20L4 18.59l7.72-7.72 1.47 1.35L5.41 20z\"/>\n",
              "  </svg>\n",
              "      </button>\n",
              "      \n",
              "  <style>\n",
              "    .colab-df-container {\n",
              "      display:flex;\n",
              "      flex-wrap:wrap;\n",
              "      gap: 12px;\n",
              "    }\n",
              "\n",
              "    .colab-df-convert {\n",
              "      background-color: #E8F0FE;\n",
              "      border: none;\n",
              "      border-radius: 50%;\n",
              "      cursor: pointer;\n",
              "      display: none;\n",
              "      fill: #1967D2;\n",
              "      height: 32px;\n",
              "      padding: 0 0 0 0;\n",
              "      width: 32px;\n",
              "    }\n",
              "\n",
              "    .colab-df-convert:hover {\n",
              "      background-color: #E2EBFA;\n",
              "      box-shadow: 0px 1px 2px rgba(60, 64, 67, 0.3), 0px 1px 3px 1px rgba(60, 64, 67, 0.15);\n",
              "      fill: #174EA6;\n",
              "    }\n",
              "\n",
              "    [theme=dark] .colab-df-convert {\n",
              "      background-color: #3B4455;\n",
              "      fill: #D2E3FC;\n",
              "    }\n",
              "\n",
              "    [theme=dark] .colab-df-convert:hover {\n",
              "      background-color: #434B5C;\n",
              "      box-shadow: 0px 1px 3px 1px rgba(0, 0, 0, 0.15);\n",
              "      filter: drop-shadow(0px 1px 2px rgba(0, 0, 0, 0.3));\n",
              "      fill: #FFFFFF;\n",
              "    }\n",
              "  </style>\n",
              "\n",
              "      <script>\n",
              "        const buttonEl =\n",
              "          document.querySelector('#df-3269be87-9576-4280-9d00-c2367d48272c button.colab-df-convert');\n",
              "        buttonEl.style.display =\n",
              "          google.colab.kernel.accessAllowed ? 'block' : 'none';\n",
              "\n",
              "        async function convertToInteractive(key) {\n",
              "          const element = document.querySelector('#df-3269be87-9576-4280-9d00-c2367d48272c');\n",
              "          const dataTable =\n",
              "            await google.colab.kernel.invokeFunction('convertToInteractive',\n",
              "                                                     [key], {});\n",
              "          if (!dataTable) return;\n",
              "\n",
              "          const docLinkHtml = 'Like what you see? Visit the ' +\n",
              "            '<a target=\"_blank\" href=https://colab.research.google.com/notebooks/data_table.ipynb>data table notebook</a>'\n",
              "            + ' to learn more about interactive tables.';\n",
              "          element.innerHTML = '';\n",
              "          dataTable['output_type'] = 'display_data';\n",
              "          await google.colab.output.renderOutput(dataTable, element);\n",
              "          const docLink = document.createElement('div');\n",
              "          docLink.innerHTML = docLinkHtml;\n",
              "          element.appendChild(docLink);\n",
              "        }\n",
              "      </script>\n",
              "    </div>\n",
              "  </div>\n",
              "  "
            ]
          },
          "metadata": {},
          "execution_count": 27
        }
      ]
    },
    {
      "cell_type": "code",
      "source": [
        "comp_info.loc[comp_info.Security.str.startswith('Face') , :]"
      ],
      "metadata": {
        "colab": {
          "base_uri": "https://localhost:8080/",
          "height": 176
        },
        "id": "BysCSQCrhs5X",
        "outputId": "3b8af2e3-11e9-4e8a-ca07-f2cce7c6f9e3"
      },
      "execution_count": null,
      "outputs": [
        {
          "output_type": "execute_result",
          "data": {
            "text/plain": [
              "    Ticker symbol  Security SEC filings             GICS Sector  \\\n",
              "181            FB  Facebook     reports  Information Technology   \n",
              "\n",
              "                GICS Sub Industry Address of Headquarters Date first added  \\\n",
              "181  Internet Software & Services  Menlo Park, California       23-12-2013   \n",
              "\n",
              "         CIK  \n",
              "181  1326801  "
            ],
            "text/html": [
              "\n",
              "  <div id=\"df-e6ee0495-163f-4912-a80f-7f5e4f1097e5\">\n",
              "    <div class=\"colab-df-container\">\n",
              "      <div>\n",
              "<style scoped>\n",
              "    .dataframe tbody tr th:only-of-type {\n",
              "        vertical-align: middle;\n",
              "    }\n",
              "\n",
              "    .dataframe tbody tr th {\n",
              "        vertical-align: top;\n",
              "    }\n",
              "\n",
              "    .dataframe thead th {\n",
              "        text-align: right;\n",
              "    }\n",
              "</style>\n",
              "<table border=\"1\" class=\"dataframe\">\n",
              "  <thead>\n",
              "    <tr style=\"text-align: right;\">\n",
              "      <th></th>\n",
              "      <th>Ticker symbol</th>\n",
              "      <th>Security</th>\n",
              "      <th>SEC filings</th>\n",
              "      <th>GICS Sector</th>\n",
              "      <th>GICS Sub Industry</th>\n",
              "      <th>Address of Headquarters</th>\n",
              "      <th>Date first added</th>\n",
              "      <th>CIK</th>\n",
              "    </tr>\n",
              "  </thead>\n",
              "  <tbody>\n",
              "    <tr>\n",
              "      <th>181</th>\n",
              "      <td>FB</td>\n",
              "      <td>Facebook</td>\n",
              "      <td>reports</td>\n",
              "      <td>Information Technology</td>\n",
              "      <td>Internet Software &amp; Services</td>\n",
              "      <td>Menlo Park, California</td>\n",
              "      <td>23-12-2013</td>\n",
              "      <td>1326801</td>\n",
              "    </tr>\n",
              "  </tbody>\n",
              "</table>\n",
              "</div>\n",
              "      <button class=\"colab-df-convert\" onclick=\"convertToInteractive('df-e6ee0495-163f-4912-a80f-7f5e4f1097e5')\"\n",
              "              title=\"Convert this dataframe to an interactive table.\"\n",
              "              style=\"display:none;\">\n",
              "        \n",
              "  <svg xmlns=\"http://www.w3.org/2000/svg\" height=\"24px\"viewBox=\"0 0 24 24\"\n",
              "       width=\"24px\">\n",
              "    <path d=\"M0 0h24v24H0V0z\" fill=\"none\"/>\n",
              "    <path d=\"M18.56 5.44l.94 2.06.94-2.06 2.06-.94-2.06-.94-.94-2.06-.94 2.06-2.06.94zm-11 1L8.5 8.5l.94-2.06 2.06-.94-2.06-.94L8.5 2.5l-.94 2.06-2.06.94zm10 10l.94 2.06.94-2.06 2.06-.94-2.06-.94-.94-2.06-.94 2.06-2.06.94z\"/><path d=\"M17.41 7.96l-1.37-1.37c-.4-.4-.92-.59-1.43-.59-.52 0-1.04.2-1.43.59L10.3 9.45l-7.72 7.72c-.78.78-.78 2.05 0 2.83L4 21.41c.39.39.9.59 1.41.59.51 0 1.02-.2 1.41-.59l7.78-7.78 2.81-2.81c.8-.78.8-2.07 0-2.86zM5.41 20L4 18.59l7.72-7.72 1.47 1.35L5.41 20z\"/>\n",
              "  </svg>\n",
              "      </button>\n",
              "      \n",
              "  <style>\n",
              "    .colab-df-container {\n",
              "      display:flex;\n",
              "      flex-wrap:wrap;\n",
              "      gap: 12px;\n",
              "    }\n",
              "\n",
              "    .colab-df-convert {\n",
              "      background-color: #E8F0FE;\n",
              "      border: none;\n",
              "      border-radius: 50%;\n",
              "      cursor: pointer;\n",
              "      display: none;\n",
              "      fill: #1967D2;\n",
              "      height: 32px;\n",
              "      padding: 0 0 0 0;\n",
              "      width: 32px;\n",
              "    }\n",
              "\n",
              "    .colab-df-convert:hover {\n",
              "      background-color: #E2EBFA;\n",
              "      box-shadow: 0px 1px 2px rgba(60, 64, 67, 0.3), 0px 1px 3px 1px rgba(60, 64, 67, 0.15);\n",
              "      fill: #174EA6;\n",
              "    }\n",
              "\n",
              "    [theme=dark] .colab-df-convert {\n",
              "      background-color: #3B4455;\n",
              "      fill: #D2E3FC;\n",
              "    }\n",
              "\n",
              "    [theme=dark] .colab-df-convert:hover {\n",
              "      background-color: #434B5C;\n",
              "      box-shadow: 0px 1px 3px 1px rgba(0, 0, 0, 0.15);\n",
              "      filter: drop-shadow(0px 1px 2px rgba(0, 0, 0, 0.3));\n",
              "      fill: #FFFFFF;\n",
              "    }\n",
              "  </style>\n",
              "\n",
              "      <script>\n",
              "        const buttonEl =\n",
              "          document.querySelector('#df-e6ee0495-163f-4912-a80f-7f5e4f1097e5 button.colab-df-convert');\n",
              "        buttonEl.style.display =\n",
              "          google.colab.kernel.accessAllowed ? 'block' : 'none';\n",
              "\n",
              "        async function convertToInteractive(key) {\n",
              "          const element = document.querySelector('#df-e6ee0495-163f-4912-a80f-7f5e4f1097e5');\n",
              "          const dataTable =\n",
              "            await google.colab.kernel.invokeFunction('convertToInteractive',\n",
              "                                                     [key], {});\n",
              "          if (!dataTable) return;\n",
              "\n",
              "          const docLinkHtml = 'Like what you see? Visit the ' +\n",
              "            '<a target=\"_blank\" href=https://colab.research.google.com/notebooks/data_table.ipynb>data table notebook</a>'\n",
              "            + ' to learn more about interactive tables.';\n",
              "          element.innerHTML = '';\n",
              "          dataTable['output_type'] = 'display_data';\n",
              "          await google.colab.output.renderOutput(dataTable, element);\n",
              "          const docLink = document.createElement('div');\n",
              "          docLink.innerHTML = docLinkHtml;\n",
              "          element.appendChild(docLink);\n",
              "        }\n",
              "      </script>\n",
              "    </div>\n",
              "  </div>\n",
              "  "
            ]
          },
          "metadata": {},
          "execution_count": 28
        }
      ]
    },
    {
      "cell_type": "code",
      "source": [
        "comp_info.loc[comp_info.Security.str.startswith('Acc') , :]"
      ],
      "metadata": {
        "colab": {
          "base_uri": "https://localhost:8080/",
          "height": 176
        },
        "id": "6shhjX9qhs7F",
        "outputId": "c4d8fa1c-3e01-4556-b676-d2d2f0fdb172"
      },
      "execution_count": null,
      "outputs": [
        {
          "output_type": "execute_result",
          "data": {
            "text/plain": [
              "  Ticker symbol       Security SEC filings             GICS Sector  \\\n",
              "3           ACN  Accenture plc     reports  Information Technology   \n",
              "\n",
              "                GICS Sub Industry Address of Headquarters Date first added  \\\n",
              "3  IT Consulting & Other Services         Dublin, Ireland       06-07-2011   \n",
              "\n",
              "       CIK  \n",
              "3  1467373  "
            ],
            "text/html": [
              "\n",
              "  <div id=\"df-e1cdb73e-3c8f-4fac-be13-562976163917\">\n",
              "    <div class=\"colab-df-container\">\n",
              "      <div>\n",
              "<style scoped>\n",
              "    .dataframe tbody tr th:only-of-type {\n",
              "        vertical-align: middle;\n",
              "    }\n",
              "\n",
              "    .dataframe tbody tr th {\n",
              "        vertical-align: top;\n",
              "    }\n",
              "\n",
              "    .dataframe thead th {\n",
              "        text-align: right;\n",
              "    }\n",
              "</style>\n",
              "<table border=\"1\" class=\"dataframe\">\n",
              "  <thead>\n",
              "    <tr style=\"text-align: right;\">\n",
              "      <th></th>\n",
              "      <th>Ticker symbol</th>\n",
              "      <th>Security</th>\n",
              "      <th>SEC filings</th>\n",
              "      <th>GICS Sector</th>\n",
              "      <th>GICS Sub Industry</th>\n",
              "      <th>Address of Headquarters</th>\n",
              "      <th>Date first added</th>\n",
              "      <th>CIK</th>\n",
              "    </tr>\n",
              "  </thead>\n",
              "  <tbody>\n",
              "    <tr>\n",
              "      <th>3</th>\n",
              "      <td>ACN</td>\n",
              "      <td>Accenture plc</td>\n",
              "      <td>reports</td>\n",
              "      <td>Information Technology</td>\n",
              "      <td>IT Consulting &amp; Other Services</td>\n",
              "      <td>Dublin, Ireland</td>\n",
              "      <td>06-07-2011</td>\n",
              "      <td>1467373</td>\n",
              "    </tr>\n",
              "  </tbody>\n",
              "</table>\n",
              "</div>\n",
              "      <button class=\"colab-df-convert\" onclick=\"convertToInteractive('df-e1cdb73e-3c8f-4fac-be13-562976163917')\"\n",
              "              title=\"Convert this dataframe to an interactive table.\"\n",
              "              style=\"display:none;\">\n",
              "        \n",
              "  <svg xmlns=\"http://www.w3.org/2000/svg\" height=\"24px\"viewBox=\"0 0 24 24\"\n",
              "       width=\"24px\">\n",
              "    <path d=\"M0 0h24v24H0V0z\" fill=\"none\"/>\n",
              "    <path d=\"M18.56 5.44l.94 2.06.94-2.06 2.06-.94-2.06-.94-.94-2.06-.94 2.06-2.06.94zm-11 1L8.5 8.5l.94-2.06 2.06-.94-2.06-.94L8.5 2.5l-.94 2.06-2.06.94zm10 10l.94 2.06.94-2.06 2.06-.94-2.06-.94-.94-2.06-.94 2.06-2.06.94z\"/><path d=\"M17.41 7.96l-1.37-1.37c-.4-.4-.92-.59-1.43-.59-.52 0-1.04.2-1.43.59L10.3 9.45l-7.72 7.72c-.78.78-.78 2.05 0 2.83L4 21.41c.39.39.9.59 1.41.59.51 0 1.02-.2 1.41-.59l7.78-7.78 2.81-2.81c.8-.78.8-2.07 0-2.86zM5.41 20L4 18.59l7.72-7.72 1.47 1.35L5.41 20z\"/>\n",
              "  </svg>\n",
              "      </button>\n",
              "      \n",
              "  <style>\n",
              "    .colab-df-container {\n",
              "      display:flex;\n",
              "      flex-wrap:wrap;\n",
              "      gap: 12px;\n",
              "    }\n",
              "\n",
              "    .colab-df-convert {\n",
              "      background-color: #E8F0FE;\n",
              "      border: none;\n",
              "      border-radius: 50%;\n",
              "      cursor: pointer;\n",
              "      display: none;\n",
              "      fill: #1967D2;\n",
              "      height: 32px;\n",
              "      padding: 0 0 0 0;\n",
              "      width: 32px;\n",
              "    }\n",
              "\n",
              "    .colab-df-convert:hover {\n",
              "      background-color: #E2EBFA;\n",
              "      box-shadow: 0px 1px 2px rgba(60, 64, 67, 0.3), 0px 1px 3px 1px rgba(60, 64, 67, 0.15);\n",
              "      fill: #174EA6;\n",
              "    }\n",
              "\n",
              "    [theme=dark] .colab-df-convert {\n",
              "      background-color: #3B4455;\n",
              "      fill: #D2E3FC;\n",
              "    }\n",
              "\n",
              "    [theme=dark] .colab-df-convert:hover {\n",
              "      background-color: #434B5C;\n",
              "      box-shadow: 0px 1px 3px 1px rgba(0, 0, 0, 0.15);\n",
              "      filter: drop-shadow(0px 1px 2px rgba(0, 0, 0, 0.3));\n",
              "      fill: #FFFFFF;\n",
              "    }\n",
              "  </style>\n",
              "\n",
              "      <script>\n",
              "        const buttonEl =\n",
              "          document.querySelector('#df-e1cdb73e-3c8f-4fac-be13-562976163917 button.colab-df-convert');\n",
              "        buttonEl.style.display =\n",
              "          google.colab.kernel.accessAllowed ? 'block' : 'none';\n",
              "\n",
              "        async function convertToInteractive(key) {\n",
              "          const element = document.querySelector('#df-e1cdb73e-3c8f-4fac-be13-562976163917');\n",
              "          const dataTable =\n",
              "            await google.colab.kernel.invokeFunction('convertToInteractive',\n",
              "                                                     [key], {});\n",
              "          if (!dataTable) return;\n",
              "\n",
              "          const docLinkHtml = 'Like what you see? Visit the ' +\n",
              "            '<a target=\"_blank\" href=https://colab.research.google.com/notebooks/data_table.ipynb>data table notebook</a>'\n",
              "            + ' to learn more about interactive tables.';\n",
              "          element.innerHTML = '';\n",
              "          dataTable['output_type'] = 'display_data';\n",
              "          await google.colab.output.renderOutput(dataTable, element);\n",
              "          const docLink = document.createElement('div');\n",
              "          docLink.innerHTML = docLinkHtml;\n",
              "          element.appendChild(docLink);\n",
              "        }\n",
              "      </script>\n",
              "    </div>\n",
              "  </div>\n",
              "  "
            ]
          },
          "metadata": {},
          "execution_count": 29
        }
      ]
    },
    {
      "cell_type": "code",
      "source": [
        "comp_plot = comp_info.loc[(comp_info[\"Security\"] == 'Yahoo Inc.') | (comp_info[\"Security\"] == 'Xerox Corp.') | (comp_info[\"Security\"] == 'Adobe Systems Inc')\n",
        "              | (comp_info[\"Security\"] == 'Microsoft Corp.') | (comp_info[\"Security\"] == 'Adobe Systems Inc') \n",
        "              | (comp_info[\"Security\"] == 'Facebook') | (comp_info[\"Security\"] == 'Goldman Sachs Group') , [\"Ticker symbol\"] ][\"Ticker symbol\"] \n",
        "print(comp_plot)\n"
      ],
      "metadata": {
        "colab": {
          "base_uri": "https://localhost:8080/"
        },
        "id": "WFZ1iDQwhs_P",
        "outputId": "a2daf98b-6098-4c94-a5d6-58c64a7aa5fa"
      },
      "execution_count": null,
      "outputs": [
        {
          "output_type": "stream",
          "name": "stdout",
          "text": [
            "6      ADBE\n",
            "181      FB\n",
            "212      GS\n",
            "306    MSFT\n",
            "496     XRX\n",
            "500    YHOO\n",
            "Name: Ticker symbol, dtype: object\n"
          ]
        }
      ]
    },
    {
      "cell_type": "code",
      "source": [
        "for i in comp_plot:\n",
        "    print (i)\n"
      ],
      "metadata": {
        "colab": {
          "base_uri": "https://localhost:8080/"
        },
        "id": "BgoSFpxnhq6L",
        "outputId": "68456d95-45c7-4ac5-e76e-03a318221bbe"
      },
      "execution_count": null,
      "outputs": [
        {
          "output_type": "stream",
          "name": "stdout",
          "text": [
            "ADBE\n",
            "FB\n",
            "GS\n",
            "MSFT\n",
            "XRX\n",
            "YHOO\n"
          ]
        }
      ]
    },
    {
      "cell_type": "code",
      "source": [
        "def plotter(code):\n",
        "    # Function used to create graphs for 6 companies \n",
        "    global closing_stock ,opening_stock\n",
        "    #creating plot of all 6 company for opening and closing stock  total 12 graphs\n",
        "    # Below statement create 2X2 empty chart \n",
        "    f, axs = plt.subplots(2,2,figsize=(15,8))\n",
        "    # total 12 graphs\n",
        "    # creating plot opening prize of particular company\n",
        "    plt.subplot(212)\n",
        "    #taking name of the company as code, get all records related to one company\n",
        "    company = df[df['symbol']==code]\n",
        "    #taking the values of one company and taking its open column values to 1D array\n",
        "    company = company.open.values.astype('float32')\n",
        "    #reshaping the open stock value from 1D  to 2D .\n",
        "    company = company.reshape(-1, 1)\n",
        "    # putting the value of company in opening_stock \n",
        "    opening_stock = company\n",
        "    # plotting the data with green graph between \"Time\" and \"prices vs time\"\n",
        "    \n",
        "    plt.grid(True)# enalbling the grid in graph\n",
        "    plt.xlabel('Time') # setting X axis as time\n",
        "    # setting Y axis as company name + open stock prices\n",
        "    plt.ylabel(code + \" open stock prices\") \n",
        "    plt.title('prices Vs Time') # setting title\n",
        "    plt.plot(company , 'g') # calling the graph with green graph line\n",
        "    \n",
        "    # creating plot closing prize of particular company\n",
        "    plt.subplot(211)\n",
        "    #taking name of the company as code\n",
        "    company_close = df[df['symbol']==code]\n",
        "    #taking the values of one company and taking its close column values\n",
        "    company_close = company_close.close.values.astype('float32')\n",
        "    #reshaping the open column value in 1D and calling it closing_stock\n",
        "   # -1 for unknown dimension\n",
        "    company_close = company_close.reshape(-1, 1)\n",
        "    # putting company_close value in closing_stock \n",
        "    closing_stock = company_close\n",
        "    # plotting the data graph between \"Time\" and \"prices vs time\"\n",
        "    plt.xlabel('Time') # setting x axis as time\n",
        "    plt.ylabel(code + \" close stock prices\")# setting y axis as company name + open stock prices\n",
        "    plt.title('prices Vs Time') # setting title as price vs time\n",
        "    plt.grid(True) # enabling the grid in graph\n",
        "    plt.plot(company_close , 'b') #creating the data graph in blue graph line\n",
        "    plt.show() # calling the graph\n",
        "\n"
      ],
      "metadata": {
        "id": "vN6Fq-TcjPgj"
      },
      "execution_count": null,
      "outputs": []
    },
    {
      "cell_type": "code",
      "source": [
        "for i in comp_plot:\n",
        "    plotter(i)\n"
      ],
      "metadata": {
        "colab": {
          "base_uri": "https://localhost:8080/",
          "height": 1000
        },
        "id": "XqYurIhojPjJ",
        "outputId": "27164c4c-3767-47f8-f4ab-94dff9861239"
      },
      "execution_count": null,
      "outputs": [
        {
          "output_type": "display_data",
          "data": {
            "text/plain": [
              "<Figure size 1080x576 with 2 Axes>"
            ],
            "image/png": "[encoded data removed]"
          },
          "metadata": {
            "needs_background": "light"
          }
        },
        {
          "output_type": "display_data",
          "data": {
            "text/plain": [
              "<Figure size 1080x576 with 2 Axes>"
            ],
            "image/png": "[encoded data removed]"
          },
          "metadata": {
            "needs_background": "light"
          }
        },
        {
          "output_type": "display_data",
          "data": {
            "text/plain": [
              "<Figure size 1080x576 with 2 Axes>"
            ],
            "image/png": "[encoded data removed]"
          },
          "metadata": {
            "needs_background": "light"
          }
        },
        {
          "output_type": "display_data",
          "data": {
            "text/plain": [
              "<Figure size 1080x576 with 2 Axes>"
            ],
            "image/png": "[encoded data removed]"
          },
          "metadata": {
            "needs_background": "light"
          }
        },
        {
          "output_type": "display_data",
          "data": {
            "text/plain": [
              "<Figure size 1080x576 with 2 Axes>"
            ],
            "image/png": "[encoded data removed]"
          },
          "metadata": {
            "needs_background": "light"
          }
        },
        {
          "output_type": "display_data",
          "data": {
            "text/plain": [
              "<Figure size 1080x576 with 2 Axes>"
            ],
            "image/png": "[encoded data removed]"
          },
          "metadata": {
            "needs_background": "light"
          }
        }
      ]
    },
    {
      "cell_type": "code",
      "source": [
        "stocks= np.array (df[df.symbol.isin (['YHOO'])].close)\n",
        "print(stocks)\n"
      ],
      "metadata": {
        "colab": {
          "base_uri": "https://localhost:8080/"
        },
        "id": "Ox1khKHnjPmj",
        "outputId": "4d1df1a7-a26b-42eb-ca7b-1cfb98ec7edc"
      },
      "execution_count": null,
      "outputs": [
        {
          "output_type": "stream",
          "name": "stdout",
          "text": [
            "[17.1      17.23     17.17     ... 38.73     38.639999 38.669998]\n"
          ]
        }
      ]
    },
    {
      "cell_type": "code",
      "source": [
        "display (stocks.shape)"
      ],
      "metadata": {
        "colab": {
          "base_uri": "https://localhost:8080/",
          "height": 34
        },
        "id": "Q8cpq-2hjPo-",
        "outputId": "1eef7370-52af-4d0d-98d0-524e3183201c"
      },
      "execution_count": null,
      "outputs": [
        {
          "output_type": "display_data",
          "data": {
            "text/plain": [
              "(1762,)"
            ]
          },
          "metadata": {}
        }
      ]
    },
    {
      "cell_type": "code",
      "source": [
        "stocks = stocks.reshape(len(stocks) , 1)\n",
        "print (stocks.shape)\n",
        "print(stocks)\n"
      ],
      "metadata": {
        "colab": {
          "base_uri": "https://localhost:8080/"
        },
        "id": "bAuMIvI6jevz",
        "outputId": "92cb5ed1-4553-465b-d6c7-46f217adcab6"
      },
      "execution_count": null,
      "outputs": [
        {
          "output_type": "stream",
          "name": "stdout",
          "text": [
            "(1762, 1)\n",
            "[[17.1     ]\n",
            " [17.23    ]\n",
            " [17.17    ]\n",
            " ...\n",
            " [38.73    ]\n",
            " [38.639999]\n",
            " [38.669998]]\n"
          ]
        }
      ]
    },
    {
      "cell_type": "code",
      "source": [
        "from sklearn.preprocessing import MinMaxScaler\n",
        "#scaling features between 0 and 1\n",
        "scaler = MinMaxScaler(feature_range=(0, 1)) \n",
        "stocks = scaler.fit_transform(stocks) \n",
        "display (stocks)\n"
      ],
      "metadata": {
        "colab": {
          "base_uri": "https://localhost:8080/",
          "height": 139
        },
        "id": "53ih7hfzjeyS",
        "outputId": "974c6a92-be8d-4910-ea14-0f7806e1231a"
      },
      "execution_count": null,
      "outputs": [
        {
          "output_type": "display_data",
          "data": {
            "text/plain": [
              "array([[0.14559109],\n",
              "       [0.14874031],\n",
              "       [0.14728683],\n",
              "       ...,\n",
              "       [0.66957366],\n",
              "       [0.6673934 ],\n",
              "       [0.66812012]])"
            ]
          },
          "metadata": {}
        }
      ]
    },
    {
      "cell_type": "code",
      "source": [
        "print (stocks.shape) "
      ],
      "metadata": {
        "colab": {
          "base_uri": "https://localhost:8080/"
        },
        "id": "r3KSQdOgje2D",
        "outputId": "a3c4749c-8d84-4d39-804a-5626f3d88e97"
      },
      "execution_count": null,
      "outputs": [
        {
          "output_type": "stream",
          "name": "stdout",
          "text": [
            "(1762, 1)\n"
          ]
        }
      ]
    },
    {
      "cell_type": "code",
      "source": [
        "train = int(len(stocks) * 0.80)\n",
        "print (train)\n"
      ],
      "metadata": {
        "colab": {
          "base_uri": "https://localhost:8080/"
        },
        "id": "0bNTTGjLje4v",
        "outputId": "91be96d4-89ff-434d-ec23-65709a034eeb"
      },
      "execution_count": null,
      "outputs": [
        {
          "output_type": "stream",
          "name": "stdout",
          "text": [
            "1409\n"
          ]
        }
      ]
    },
    {
      "cell_type": "code",
      "source": [
        "test = len(stocks) - train \n",
        "print (test)\n"
      ],
      "metadata": {
        "colab": {
          "base_uri": "https://localhost:8080/"
        },
        "id": "90_AJyv0jfBr",
        "outputId": "114e9672-1c7a-48e6-c269-78ff88766b0a"
      },
      "execution_count": null,
      "outputs": [
        {
          "output_type": "stream",
          "name": "stdout",
          "text": [
            "353\n"
          ]
        }
      ]
    },
    {
      "cell_type": "code",
      "source": [
        "train = stocks[0:train]\n",
        "display (train.shape)\n",
        "print(train)\n"
      ],
      "metadata": {
        "colab": {
          "base_uri": "https://localhost:8080/",
          "height": 156
        },
        "id": "HAM12jHYjfEh",
        "outputId": "30ec98ee-c05f-4308-c724-a088284aeb92"
      },
      "execution_count": null,
      "outputs": [
        {
          "output_type": "display_data",
          "data": {
            "text/plain": [
              "(1409, 1)"
            ]
          },
          "metadata": {}
        },
        {
          "output_type": "stream",
          "name": "stdout",
          "text": [
            "[[0.14559109]\n",
            " [0.14874031]\n",
            " [0.14728683]\n",
            " ...\n",
            " [0.63372095]\n",
            " [0.61458332]\n",
            " [0.61967051]]\n"
          ]
        }
      ]
    },
    {
      "cell_type": "code",
      "source": [
        "test = stocks[len(train) : ]\n",
        "display(test.shape)\n",
        "display (test)\n",
        "\n"
      ],
      "metadata": {
        "colab": {
          "base_uri": "https://localhost:8080/",
          "height": 1000
        },
        "id": "yWQ1xS3Ij0nW",
        "outputId": "0078039d-7be8-4e83-f4e9-213a7e578639"
      },
      "execution_count": null,
      "outputs": [
        {
          "output_type": "display_data",
          "data": {
            "text/plain": [
              "(353, 1)"
            ]
          },
          "metadata": {}
        },
        {
          "output_type": "display_data",
          "data": {
            "text/plain": [
              "array([[0.63129851],\n",
              "       [0.60416666],\n",
              "       [0.56686053],\n",
              "       [0.6017442 ],\n",
              "       [0.60925394],\n",
              "       [0.60586237],\n",
              "       [0.59593022],\n",
              "       [0.58381782],\n",
              "       [0.55741276],\n",
              "       [0.52906978],\n",
              "       [0.48982557],\n",
              "       [0.50024226],\n",
              "       [0.51913761],\n",
              "       [0.54748061],\n",
              "       [0.53415697],\n",
              "       [0.51235471],\n",
              "       [0.49685079],\n",
              "       [0.500969  ],\n",
              "       [0.51962213],\n",
              "       [0.49636629],\n",
              "       [0.47989342],\n",
              "       [0.4949128 ],\n",
              "       [0.48594962],\n",
              "       [0.49273257],\n",
              "       [0.46584303],\n",
              "       [0.48328492],\n",
              "       [0.49200583],\n",
              "       [0.48062017],\n",
              "       [0.47601745],\n",
              "       [0.48643412],\n",
              "       [0.46778102],\n",
              "       [0.45179265],\n",
              "       [0.44210272],\n",
              "       [0.43701549],\n",
              "       [0.39995156],\n",
              "       [0.41593993],\n",
              "       [0.43168606],\n",
              "       [0.43168606],\n",
              "       [0.47529068],\n",
              "       [0.47868218],\n",
              "       [0.48134689],\n",
              "       [0.50339151],\n",
              "       [0.51550386],\n",
              "       [0.51913761],\n",
              "       [0.52737407],\n",
              "       [0.51477714],\n",
              "       [0.50872094],\n",
              "       [0.54239342],\n",
              "       [0.53972867],\n",
              "       [0.54287792],\n",
              "       [0.52664735],\n",
              "       [0.4852229 ],\n",
              "       [0.49854652],\n",
              "       [0.53488369],\n",
              "       [0.54045549],\n",
              "       [0.56225774],\n",
              "       [0.58381782],\n",
              "       [0.58042635],\n",
              "       [0.59423449],\n",
              "       [0.58575583],\n",
              "       [0.57243221],\n",
              "       [0.58091087],\n",
              "       [0.58212208],\n",
              "       [0.55983531],\n",
              "       [0.54723839],\n",
              "       [0.55474812],\n",
              "       [0.53997097],\n",
              "       [0.53633722],\n",
              "       [0.5111434 ],\n",
              "       [0.5295543 ],\n",
              "       [0.52737407],\n",
              "       [0.53028102],\n",
              "       [0.52180236],\n",
              "       [0.53343027],\n",
              "       [0.53948647],\n",
              "       [0.5297965 ],\n",
              "       [0.53464149],\n",
              "       [0.529312  ],\n",
              "       [0.55038763],\n",
              "       [0.54796511],\n",
              "       [0.5949613 ],\n",
              "       [0.56322676],\n",
              "       [0.5770349 ],\n",
              "       [0.57146319],\n",
              "       [0.57558136],\n",
              "       [0.56468029],\n",
              "       [0.57025198],\n",
              "       [0.52858528],\n",
              "       [0.52083335],\n",
              "       [0.53149224],\n",
              "       [0.54966084],\n",
              "       [0.53633722],\n",
              "       [0.5295543 ],\n",
              "       [0.5300388 ],\n",
              "       [0.55959301],\n",
              "       [0.56589151],\n",
              "       [0.55765508],\n",
              "       [0.54530035],\n",
              "       [0.55595934],\n",
              "       [0.53972867],\n",
              "       [0.53706392],\n",
              "       [0.49200583],\n",
              "       [0.5113857 ],\n",
              "       [0.51041668],\n",
              "       [0.46196707],\n",
              "       [0.4733527 ],\n",
              "       [0.46220931],\n",
              "       [0.47480624],\n",
              "       [0.44452523],\n",
              "       [0.46584303],\n",
              "       [0.43725774],\n",
              "       [0.45179265],\n",
              "       [0.42853686],\n",
              "       [0.44137596],\n",
              "       [0.45203489],\n",
              "       [0.45276166],\n",
              "       [0.4576066 ],\n",
              "       [0.45058143],\n",
              "       [0.42781009],\n",
              "       [0.44622094],\n",
              "       [0.44767443],\n",
              "       [0.43531975],\n",
              "       [0.40188954],\n",
              "       [0.43750001],\n",
              "       [0.40891471],\n",
              "       [0.38662789],\n",
              "       [0.38105621],\n",
              "       [0.38783916],\n",
              "       [0.37960272],\n",
              "       [0.38638569],\n",
              "       [0.44064926],\n",
              "       [0.44282949],\n",
              "       [0.44404071],\n",
              "       [0.45906011],\n",
              "       [0.48643412],\n",
              "       [0.47432172],\n",
              "       [0.48110469],\n",
              "       [0.49103686],\n",
              "       [0.49127911],\n",
              "       [0.50145352],\n",
              "       [0.52592053],\n",
              "       [0.52858528],\n",
              "       [0.52785856],\n",
              "       [0.55159887],\n",
              "       [0.55402131],\n",
              "       [0.52906978],\n",
              "       [0.54312012],\n",
              "       [0.52640505],\n",
              "       [0.55038763],\n",
              "       [0.54481595],\n",
              "       [0.53706392],\n",
              "       [0.55523252],\n",
              "       [0.56177325],\n",
              "       [0.5833333 ],\n",
              "       [0.59060081],\n",
              "       [0.5891473 ],\n",
              "       [0.57437014],\n",
              "       [0.57582368],\n",
              "       [0.58478684],\n",
              "       [0.61119188],\n",
              "       [0.61700585],\n",
              "       [0.62306205],\n",
              "       [0.61506784],\n",
              "       [0.62814924],\n",
              "       [0.61337211],\n",
              "       [0.61942831],\n",
              "       [0.60755811],\n",
              "       [0.60513567],\n",
              "       [0.61506784],\n",
              "       [0.61942831],\n",
              "       [0.63517446],\n",
              "       [0.63178291],\n",
              "       [0.61579454],\n",
              "       [0.61603684],\n",
              "       [0.61143417],\n",
              "       [0.64801358],\n",
              "       [0.64389532],\n",
              "       [0.63929265],\n",
              "       [0.63323645],\n",
              "       [0.6303295 ],\n",
              "       [0.62645353],\n",
              "       [0.61773257],\n",
              "       [0.61797477],\n",
              "       [0.61627906],\n",
              "       [0.60368214],\n",
              "       [0.60343994],\n",
              "       [0.62621123],\n",
              "       [0.63323645],\n",
              "       [0.63202521],\n",
              "       [0.63832363],\n",
              "       [0.6366279 ],\n",
              "       [0.62839146],\n",
              "       [0.61506784],\n",
              "       [0.63929265],\n",
              "       [0.63420544],\n",
              "       [0.63347875],\n",
              "       [0.62814924],\n",
              "       [0.61555234],\n",
              "       [0.61942831],\n",
              "       [0.64050387],\n",
              "       [0.59350777],\n",
              "       [0.62185074],\n",
              "       [0.64752909],\n",
              "       [0.65043604],\n",
              "       [0.61918611],\n",
              "       [0.63129851],\n",
              "       [0.61797477],\n",
              "       [0.62936048],\n",
              "       [0.62112405],\n",
              "       [0.62693802],\n",
              "       [0.63614338],\n",
              "       [0.62354658],\n",
              "       [0.61482562],\n",
              "       [0.63735472],\n",
              "       [0.63541668],\n",
              "       [0.63711239],\n",
              "       [0.62621123],\n",
              "       [0.63468996],\n",
              "       [0.63735472],\n",
              "       [0.6363857 ],\n",
              "       [0.64656007],\n",
              "       [0.60925394],\n",
              "       [0.58454461],\n",
              "       [0.60440895],\n",
              "       [0.6242733 ],\n",
              "       [0.64123066],\n",
              "       [0.65164735],\n",
              "       [0.63977715],\n",
              "       [0.64001935],\n",
              "       [0.64026164],\n",
              "       [0.64559115],\n",
              "       [0.65092053],\n",
              "       [0.6492248 ],\n",
              "       [0.6431686 ],\n",
              "       [0.65092053],\n",
              "       [0.64510663],\n",
              "       [0.65067833],\n",
              "       [0.65600772],\n",
              "       [0.67369193],\n",
              "       [0.67248059],\n",
              "       [0.68531981],\n",
              "       [0.65964149],\n",
              "       [0.67030036],\n",
              "       [0.66787792],\n",
              "       [0.66448645],\n",
              "       [0.65649224],\n",
              "       [0.67126937],\n",
              "       [0.66569769],\n",
              "       [0.6613372 ],\n",
              "       [0.67417632],\n",
              "       [0.67587216],\n",
              "       [0.68192836],\n",
              "       [0.68192836],\n",
              "       [0.69864343],\n",
              "       [0.73110467],\n",
              "       [0.77156007],\n",
              "       [0.76501935],\n",
              "       [0.76065898],\n",
              "       [0.76574617],\n",
              "       [0.77059115],\n",
              "       [0.77349808],\n",
              "       [0.76138568],\n",
              "       [0.76332361],\n",
              "       [0.74660855],\n",
              "       [0.7495155 ],\n",
              "       [0.75532948],\n",
              "       [0.75508718],\n",
              "       [0.76283921],\n",
              "       [0.76695738],\n",
              "       [0.77131785],\n",
              "       [0.77979651],\n",
              "       [0.81443798],\n",
              "       [0.80571703],\n",
              "       [0.80595935],\n",
              "       [0.77107555],\n",
              "       [0.78415697],\n",
              "       [0.7739826 ],\n",
              "       [0.78415697],\n",
              "       [0.79699619],\n",
              "       [0.78924416],\n",
              "       [0.77761627],\n",
              "       [0.7679264 ],\n",
              "       [0.80062984],\n",
              "       [0.80087216],\n",
              "       [0.7681686 ],\n",
              "       [0.755814  ],\n",
              "       [0.78197674],\n",
              "       [0.78972868],\n",
              "       [0.76259692],\n",
              "       [0.77543602],\n",
              "       [0.77616283],\n",
              "       [0.77737405],\n",
              "       [0.79021317],\n",
              "       [0.78948645],\n",
              "       [0.77834307],\n",
              "       [0.79530036],\n",
              "       [0.76526165],\n",
              "       [0.75750973],\n",
              "       [0.73958333],\n",
              "       [0.73522286],\n",
              "       [0.74370159],\n",
              "       [0.74103684],\n",
              "       [0.76647289],\n",
              "       [0.75799423],\n",
              "       [0.75290695],\n",
              "       [0.76308141],\n",
              "       [0.7621124 ],\n",
              "       [0.75072681],\n",
              "       [0.74563953],\n",
              "       [0.7434593 ],\n",
              "       [0.73788759],\n",
              "       [0.73255821],\n",
              "       [0.71681203],\n",
              "       [0.70591087],\n",
              "       [0.70712209],\n",
              "       [0.72577519],\n",
              "       [0.72843994],\n",
              "       [0.72965116],\n",
              "       [0.70421513],\n",
              "       [0.71051353],\n",
              "       [0.68338178],\n",
              "       [0.70542635],\n",
              "       [0.72407947],\n",
              "       [0.73546516],\n",
              "       [0.72916666],\n",
              "       [0.72722872],\n",
              "       [0.72480617],\n",
              "       [0.72359495],\n",
              "       [0.72141472],\n",
              "       [0.73546516],\n",
              "       [0.73909881],\n",
              "       [0.72504847],\n",
              "       [0.69137601],\n",
              "       [0.7020349 ],\n",
              "       [0.70518415],\n",
              "       [0.69961244],\n",
              "       [0.71293606],\n",
              "       [0.73449614],\n",
              "       [0.74297478],\n",
              "       [0.73183139],\n",
              "       [0.73594965],\n",
              "       [0.72238374],\n",
              "       [0.66182172],\n",
              "       [0.66666671],\n",
              "       [0.66206392],\n",
              "       [0.67999033],\n",
              "       [0.67974813],\n",
              "       [0.66400195],\n",
              "       [0.66787792],\n",
              "       [0.67417632],\n",
              "       [0.66957366],\n",
              "       [0.6673934 ],\n",
              "       [0.66812012]])"
            ]
          },
          "metadata": {}
        }
      ]
    },
    {
      "cell_type": "code",
      "source": [
        "#creating function to create trainX,testX and target(trainY, testY)\n",
        "def process_data(data , n_features):\n",
        "    dataX, dataY = [], [] # creating data for dataset and dividing inta X,Y\n",
        "    for i in range(len(data)-n_features):\n",
        "        # taking i range from total size- 3 \n",
        "        a = data[i:(i+n_features), 0]\n",
        "        # Here a is value of data from i to i+ n_features, ie two values and put it in dataX \n",
        "        dataX.append(a) #putting a in dataX\n",
        "        #here dataY takes the value of data of i + n_features\n",
        "        dataY.append(data[i + n_features, 0])\n",
        "        # putting i+ n_features in  dataY\n",
        "    return np.array(dataX), np.array(dataY)\n",
        "# returning dataX and dataY in array\n",
        "\n",
        "\n"
      ],
      "metadata": {
        "id": "d8zp1zh9j0qP"
      },
      "execution_count": null,
      "outputs": []
    },
    {
      "cell_type": "code",
      "source": [
        "n_features = 2\n",
        "# Here we create train X, Train Y and test X, Test Y data where trainX, testX has two value is each block\n",
        "\n",
        "trainX, trainY = process_data(train, n_features)\n",
        "print(trainX.shape , trainY.shape)\n",
        "\n"
      ],
      "metadata": {
        "colab": {
          "base_uri": "https://localhost:8080/"
        },
        "id": "0qofZ2y-j0vB",
        "outputId": "4c6d8d5e-8705-48a9-9c2c-c3d6b3baabd4"
      },
      "execution_count": null,
      "outputs": [
        {
          "output_type": "stream",
          "name": "stdout",
          "text": [
            "(1407, 2) (1407,)\n"
          ]
        }
      ]
    },
    {
      "cell_type": "code",
      "source": [
        "testX, testY = process_data(test, n_features)\n",
        "print (testX.shape , testY.shape)\n"
      ],
      "metadata": {
        "colab": {
          "base_uri": "https://localhost:8080/"
        },
        "id": "AvFFu-NRj0yI",
        "outputId": "00b0309e-3e23-4c7f-816c-311d64a29073"
      },
      "execution_count": null,
      "outputs": [
        {
          "output_type": "stream",
          "name": "stdout",
          "text": [
            "(351, 2) (351,)\n"
          ]
        }
      ]
    },
    {
      "cell_type": "code",
      "source": [
        "stocksX, stocksY = process_data(stocks, n_features)\n",
        "print (stocksX.shape , stocksY.shape)\n"
      ],
      "metadata": {
        "colab": {
          "base_uri": "https://localhost:8080/"
        },
        "id": "dvSqF94Nj01O",
        "outputId": "f9828d8f-ebc2-413e-9db0-cc5c894c8c89"
      },
      "execution_count": null,
      "outputs": [
        {
          "output_type": "stream",
          "name": "stdout",
          "text": [
            "(1760, 2) (1760,)\n"
          ]
        }
      ]
    },
    {
      "cell_type": "code",
      "source": [
        "display (trainX[:10])"
      ],
      "metadata": {
        "colab": {
          "base_uri": "https://localhost:8080/",
          "height": 191
        },
        "id": "7PvxYGoUkH7X",
        "outputId": "91c52819-f2f0-4a10-c3b8-9ac73b6a0eff"
      },
      "execution_count": null,
      "outputs": [
        {
          "output_type": "display_data",
          "data": {
            "text/plain": [
              "array([[0.14559109, 0.14874031],\n",
              "       [0.14874031, 0.14728683],\n",
              "       [0.14728683, 0.13590119],\n",
              "       [0.13590119, 0.13590119],\n",
              "       [0.13590119, 0.13687016],\n",
              "       [0.13687016, 0.13541667],\n",
              "       [0.13541667, 0.14074613],\n",
              "       [0.14074613, 0.14607561],\n",
              "       [0.14607561, 0.13880814],\n",
              "       [0.13880814, 0.13711241]])"
            ]
          },
          "metadata": {}
        }
      ]
    },
    {
      "cell_type": "code",
      "source": [
        "display (trainY[:10])"
      ],
      "metadata": {
        "colab": {
          "base_uri": "https://localhost:8080/",
          "height": 52
        },
        "id": "Qwq2wCe3kH-d",
        "outputId": "6435f5f4-8696-4138-f2fb-b14f78a25c1e"
      },
      "execution_count": null,
      "outputs": [
        {
          "output_type": "display_data",
          "data": {
            "text/plain": [
              "array([0.14728683, 0.13590119, 0.13590119, 0.13687016, 0.13541667,\n",
              "       0.14074613, 0.14607561, 0.13880814, 0.13711241, 0.1281492 ])"
            ]
          },
          "metadata": {}
        }
      ]
    },
    {
      "cell_type": "code",
      "source": [
        "# reshaping trainX and testX to use in deep learning model\n",
        "trainX = trainX.reshape(trainX.shape[0] , 1 ,trainX.shape[1])\n",
        "display (trainX.shape)\n"
      ],
      "metadata": {
        "colab": {
          "base_uri": "https://localhost:8080/",
          "height": 34
        },
        "id": "DU20FKK5kIB7",
        "outputId": "67e60bf7-e763-4224-a05c-0449d25ab5bb"
      },
      "execution_count": null,
      "outputs": [
        {
          "output_type": "display_data",
          "data": {
            "text/plain": [
              "(1407, 1, 2)"
            ]
          },
          "metadata": {}
        }
      ]
    },
    {
      "cell_type": "code",
      "source": [
        "testX = testX.reshape(testX.shape[0] , 1 ,testX.shape[1])\n",
        "display (testX.shape)\n"
      ],
      "metadata": {
        "colab": {
          "base_uri": "https://localhost:8080/",
          "height": 34
        },
        "id": "MdsubqpgkIEk",
        "outputId": "84e722d6-8104-4227-fed7-e72c65d2f8fd"
      },
      "execution_count": null,
      "outputs": [
        {
          "output_type": "display_data",
          "data": {
            "text/plain": [
              "(351, 1, 2)"
            ]
          },
          "metadata": {}
        }
      ]
    },
    {
      "cell_type": "code",
      "source": [
        "stocksX= stocksX.reshape(stocksX.shape[0] , 1 ,stocksX.shape[1])\n",
        "display (stocksX.shape)\n"
      ],
      "metadata": {
        "colab": {
          "base_uri": "https://localhost:8080/",
          "height": 34
        },
        "id": "K4yTm9QUkWKT",
        "outputId": "47d641b6-8eda-46ea-a0f5-f13ad00a6613"
      },
      "execution_count": null,
      "outputs": [
        {
          "output_type": "display_data",
          "data": {
            "text/plain": [
              "(1760, 1, 2)"
            ]
          },
          "metadata": {}
        }
      ]
    },
    {
      "cell_type": "code",
      "source": [
        "# helps us do mathematical operations\n",
        "import math \n",
        "# for setting layers one by one neural layer in model \n",
        "from keras.models import Sequential \n",
        "# types of layers\n",
        "from keras.layers import Dense , BatchNormalization , Dropout , Activation \n",
        "# types of RNN\n",
        "from keras.layers import LSTM , GRU \n",
        "#It puts the data in between given range to set data before putting layer\n",
        "from sklearn.preprocessing import MinMaxScaler \n",
        "# In this method the errors in column is squared and then mean is found \n",
        "from sklearn.metrics import mean_squared_error \n",
        "# Optimizers used\n",
        "from keras.optimizers import Adam , SGD , RMSprop\n",
        "\n"
      ],
      "metadata": {
        "id": "S5wbw8NckWNj"
      },
      "execution_count": null,
      "outputs": []
    },
    {
      "cell_type": "code",
      "source": [
        "#Checkpointing the model when required and using other call-backs.\n",
        "filepath=\"stock_weights1.hdf5\"\n",
        "from keras.callbacks import ReduceLROnPlateau , ModelCheckpoint\n",
        "# ReduceLROnPlateau- This reduce the learning rate when the matrix stop improving or  too close to reduce overfitting\n",
        "lr_reduce = ReduceLROnPlateau(monitor='val_loss', factor=0.1, epsilon=0.0001, patience=1, verbose=1)\n",
        "#This check point will stop processing, if the model is not improving.\n",
        "checkpoint = ModelCheckpoint(filepath, monitor='val_loss', verbose=1, save_best_only=True, mode='max')\n"
      ],
      "metadata": {
        "colab": {
          "base_uri": "https://localhost:8080/"
        },
        "id": "KgKR7UGakWRQ",
        "outputId": "67d2598c-2a87-4e13-f60f-baeba87feeed"
      },
      "execution_count": null,
      "outputs": [
        {
          "output_type": "stream",
          "name": "stderr",
          "text": [
            "WARNING:tensorflow:`epsilon` argument is deprecated and will be removed, use `min_delta` instead.\n"
          ]
        }
      ]
    },
    {
      "cell_type": "code",
      "source": [
        "# creating model for training data using sequential to give series wise output between layers\n",
        "model = Sequential()\n",
        "# GRU or Gated Recurrent Unit used for matrix manipulation within Recurrent layer\n",
        "#This is the input Layer \n",
        "model.add(GRU(256 , input_shape = (1 , n_features) , return_sequences=True))\n",
        "#dropout is used to remove overfitting data on each layer of neural network\n",
        "model.add(Dropout(0.4))\n",
        "#Long Short Term Memory is a type of RNN specially used for time series problems\n",
        "model.add(LSTM(256))\n",
        "#dropout is used to remove overfitting data on each layer of neural network\n",
        "model.add(Dropout(0.4))\n",
        "#Dense layer are fully connected neural networks \n",
        "model.add(Dense(64 ,  activation = 'relu'))\n",
        "#This is the output Layer, Output is only one neuron \n",
        "model.add(Dense(1))\n",
        "#for getting the details of our models\n",
        "print(model.summary())"
      ],
      "metadata": {
        "colab": {
          "base_uri": "https://localhost:8080/"
        },
        "id": "oZi6t65YkjNx",
        "outputId": "a35dbd22-c4ca-4187-8ab4-68942f80e085"
      },
      "execution_count": null,
      "outputs": [
        {
          "output_type": "stream",
          "name": "stdout",
          "text": [
            "Model: \"sequential\"\n",
            "_________________________________________________________________\n",
            " Layer (type)                Output Shape              Param #   \n",
            "=================================================================\n",
            " gru (GRU)                   (None, 1, 256)            199680    \n",
            "                                                                 \n",
            " dropout (Dropout)           (None, 1, 256)            0         \n",
            "                                                                 \n",
            " lstm (LSTM)                 (None, 256)               525312    \n",
            "                                                                 \n",
            " dropout_1 (Dropout)         (None, 256)               0         \n",
            "                                                                 \n",
            " dense (Dense)               (None, 64)                16448     \n",
            "                                                                 \n",
            " dense_1 (Dense)             (None, 1)                 65        \n",
            "                                                                 \n",
            "=================================================================\n",
            "Total params: 741,505\n",
            "Trainable params: 741,505\n",
            "Non-trainable params: 0\n",
            "_________________________________________________________________\n",
            "None\n"
          ]
        }
      ]
    },
    {
      "cell_type": "code",
      "source": [
        "# Selecting the loss measurement metrics and optimizer for our model, to find out mean square error\n",
        "model.compile(loss='mean_squared_error', optimizer=Adam(lr = 0.0005) , metrics = ['mean_squared_error'])\n",
        "\n"
      ],
      "metadata": {
        "id": "eD6bgfv-kjQz"
      },
      "execution_count": null,
      "outputs": []
    },
    {
      "cell_type": "code",
      "source": [
        "# fitting the data i.e training the trainX, to relate to trainY\n",
        "# epochs is the times each data in send to fit\n",
        "# batch size is the size of information send at a time\n",
        "# validation_data is the validation or data used for testing \n",
        "history = model.fit(trainX, trainY, epochs=100 , batch_size = 128 , \n",
        "          callbacks = [checkpoint , lr_reduce] , validation_data = (testX,testY))    "
      ],
      "metadata": {
        "colab": {
          "base_uri": "https://localhost:8080/"
        },
        "id": "yeUcadnWkjT4",
        "outputId": "4b676a53-9507-4972-f4c1-3d1fea5729ed"
      },
      "execution_count": null,
      "outputs": [
        {
          "output_type": "stream",
          "name": "stdout",
          "text": [
            "Epoch 1/100\n",
            "11/11 [==============================] - ETA: 0s - loss: 0.1372 - mean_squared_error: 0.1372\n",
            "Epoch 1: val_loss improved from -inf to 0.13342, saving model to stock_weights1.hdf5\n",
            "11/11 [==============================] - 7s 148ms/step - loss: 0.1372 - mean_squared_error: 0.1372 - val_loss: 0.1334 - val_mean_squared_error: 0.1334 - lr: 5.0000e-04\n",
            "Epoch 2/100\n",
            "11/11 [==============================] - ETA: 0s - loss: 0.0309 - mean_squared_error: 0.0309\n",
            "Epoch 2: val_loss did not improve from 0.13342\n",
            "11/11 [==============================] - 0s 33ms/step - loss: 0.0309 - mean_squared_error: 0.0309 - val_loss: 0.0066 - val_mean_squared_error: 0.0066 - lr: 5.0000e-04\n",
            "Epoch 3/100\n",
            "11/11 [==============================] - ETA: 0s - loss: 0.0183 - mean_squared_error: 0.0183\n",
            "Epoch 3: val_loss did not improve from 0.13342\n",
            "\n",
            "Epoch 3: ReduceLROnPlateau reducing learning rate to 5.0000002374872565e-05.\n",
            "11/11 [==============================] - 0s 40ms/step - loss: 0.0183 - mean_squared_error: 0.0183 - val_loss: 0.0072 - val_mean_squared_error: 0.0072 - lr: 5.0000e-04\n",
            "Epoch 4/100\n",
            " 9/11 [=======================>......] - ETA: 0s - loss: 0.0092 - mean_squared_error: 0.0092\n",
            "Epoch 4: val_loss did not improve from 0.13342\n",
            "\n",
            "Epoch 4: ReduceLROnPlateau reducing learning rate to 5.000000237487257e-06.\n",
            "11/11 [==============================] - 0s 33ms/step - loss: 0.0089 - mean_squared_error: 0.0089 - val_loss: 0.0075 - val_mean_squared_error: 0.0075 - lr: 5.0000e-05\n",
            "Epoch 5/100\n",
            "10/11 [==========================>...] - ETA: 0s - loss: 0.0089 - mean_squared_error: 0.0089\n",
            "Epoch 5: val_loss did not improve from 0.13342\n",
            "\n",
            "Epoch 5: ReduceLROnPlateau reducing learning rate to 5.000000328436726e-07.\n",
            "11/11 [==============================] - 0s 32ms/step - loss: 0.0089 - mean_squared_error: 0.0089 - val_loss: 0.0073 - val_mean_squared_error: 0.0073 - lr: 5.0000e-06\n",
            "Epoch 6/100\n",
            "11/11 [==============================] - ETA: 0s - loss: 0.0087 - mean_squared_error: 0.0087\n",
            "Epoch 6: val_loss did not improve from 0.13342\n",
            "\n",
            "Epoch 6: ReduceLROnPlateau reducing learning rate to 5.000000555810402e-08.\n",
            "11/11 [==============================] - 0s 32ms/step - loss: 0.0087 - mean_squared_error: 0.0087 - val_loss: 0.0073 - val_mean_squared_error: 0.0073 - lr: 5.0000e-07\n",
            "Epoch 7/100\n",
            "10/11 [==========================>...] - ETA: 0s - loss: 0.0087 - mean_squared_error: 0.0087\n",
            "Epoch 7: val_loss did not improve from 0.13342\n",
            "\n",
            "Epoch 7: ReduceLROnPlateau reducing learning rate to 5.000000413701855e-09.\n",
            "11/11 [==============================] - 0s 36ms/step - loss: 0.0088 - mean_squared_error: 0.0088 - val_loss: 0.0073 - val_mean_squared_error: 0.0073 - lr: 5.0000e-08\n",
            "Epoch 8/100\n",
            "11/11 [==============================] - ETA: 0s - loss: 0.0089 - mean_squared_error: 0.0089\n",
            "Epoch 8: val_loss did not improve from 0.13342\n",
            "\n",
            "Epoch 8: ReduceLROnPlateau reducing learning rate to 5.000000413701855e-10.\n",
            "11/11 [==============================] - 0s 34ms/step - loss: 0.0089 - mean_squared_error: 0.0089 - val_loss: 0.0073 - val_mean_squared_error: 0.0073 - lr: 5.0000e-09\n",
            "Epoch 9/100\n",
            " 9/11 [=======================>......] - ETA: 0s - loss: 0.0088 - mean_squared_error: 0.0088\n",
            "Epoch 9: val_loss did not improve from 0.13342\n",
            "\n",
            "Epoch 9: ReduceLROnPlateau reducing learning rate to 5.000000413701855e-11.\n",
            "11/11 [==============================] - 0s 31ms/step - loss: 0.0088 - mean_squared_error: 0.0088 - val_loss: 0.0073 - val_mean_squared_error: 0.0073 - lr: 5.0000e-10\n",
            "Epoch 10/100\n",
            "10/11 [==========================>...] - ETA: 0s - loss: 0.0085 - mean_squared_error: 0.0085\n",
            "Epoch 10: val_loss did not improve from 0.13342\n",
            "\n",
            "Epoch 10: ReduceLROnPlateau reducing learning rate to 5.000000413701855e-12.\n",
            "11/11 [==============================] - 0s 33ms/step - loss: 0.0086 - mean_squared_error: 0.0086 - val_loss: 0.0073 - val_mean_squared_error: 0.0073 - lr: 5.0000e-11\n",
            "Epoch 11/100\n",
            "11/11 [==============================] - ETA: 0s - loss: 0.0086 - mean_squared_error: 0.0086\n",
            "Epoch 11: val_loss did not improve from 0.13342\n",
            "\n",
            "Epoch 11: ReduceLROnPlateau reducing learning rate to 5.000000413701855e-13.\n",
            "11/11 [==============================] - 0s 37ms/step - loss: 0.0086 - mean_squared_error: 0.0086 - val_loss: 0.0073 - val_mean_squared_error: 0.0073 - lr: 5.0000e-12\n",
            "Epoch 12/100\n",
            "11/11 [==============================] - ETA: 0s - loss: 0.0088 - mean_squared_error: 0.0088\n",
            "Epoch 12: val_loss did not improve from 0.13342\n",
            "\n",
            "Epoch 12: ReduceLROnPlateau reducing learning rate to 5.0000005221220725e-14.\n",
            "11/11 [==============================] - 0s 38ms/step - loss: 0.0088 - mean_squared_error: 0.0088 - val_loss: 0.0073 - val_mean_squared_error: 0.0073 - lr: 5.0000e-13\n",
            "Epoch 13/100\n",
            "10/11 [==========================>...] - ETA: 0s - loss: 0.0087 - mean_squared_error: 0.0087\n",
            "Epoch 13: val_loss did not improve from 0.13342\n",
            "\n",
            "Epoch 13: ReduceLROnPlateau reducing learning rate to 5.000000589884709e-15.\n",
            "11/11 [==============================] - 0s 33ms/step - loss: 0.0088 - mean_squared_error: 0.0088 - val_loss: 0.0073 - val_mean_squared_error: 0.0073 - lr: 5.0000e-14\n",
            "Epoch 14/100\n",
            "11/11 [==============================] - ETA: 0s - loss: 0.0087 - mean_squared_error: 0.0087\n",
            "Epoch 14: val_loss did not improve from 0.13342\n",
            "\n",
            "Epoch 14: ReduceLROnPlateau reducing learning rate to 5.000000759291298e-16.\n",
            "11/11 [==============================] - 0s 35ms/step - loss: 0.0087 - mean_squared_error: 0.0087 - val_loss: 0.0073 - val_mean_squared_error: 0.0073 - lr: 5.0000e-15\n",
            "Epoch 15/100\n",
            "10/11 [==========================>...] - ETA: 0s - loss: 0.0093 - mean_squared_error: 0.0093\n",
            "Epoch 15: val_loss did not improve from 0.13342\n",
            "\n",
            "Epoch 15: ReduceLROnPlateau reducing learning rate to 5.000000547533061e-17.\n",
            "11/11 [==============================] - 1s 48ms/step - loss: 0.0092 - mean_squared_error: 0.0092 - val_loss: 0.0073 - val_mean_squared_error: 0.0073 - lr: 5.0000e-16\n",
            "Epoch 16/100\n",
            "11/11 [==============================] - ETA: 0s - loss: 0.0090 - mean_squared_error: 0.0090\n",
            "Epoch 16: val_loss did not improve from 0.13342\n",
            "\n",
            "Epoch 16: ReduceLROnPlateau reducing learning rate to 5.000000415184163e-18.\n",
            "11/11 [==============================] - 1s 52ms/step - loss: 0.0090 - mean_squared_error: 0.0090 - val_loss: 0.0073 - val_mean_squared_error: 0.0073 - lr: 5.0000e-17\n",
            "Epoch 17/100\n",
            "11/11 [==============================] - ETA: 0s - loss: 0.0086 - mean_squared_error: 0.0086\n",
            "Epoch 17: val_loss did not improve from 0.13342\n",
            "\n",
            "Epoch 17: ReduceLROnPlateau reducing learning rate to 5.000000332466102e-19.\n",
            "11/11 [==============================] - 1s 49ms/step - loss: 0.0086 - mean_squared_error: 0.0086 - val_loss: 0.0073 - val_mean_squared_error: 0.0073 - lr: 5.0000e-18\n",
            "Epoch 18/100\n",
            "11/11 [==============================] - ETA: 0s - loss: 0.0089 - mean_squared_error: 0.0089\n",
            "Epoch 18: val_loss did not improve from 0.13342\n",
            "\n",
            "Epoch 18: ReduceLROnPlateau reducing learning rate to 5.000000229068525e-20.\n",
            "11/11 [==============================] - 1s 49ms/step - loss: 0.0089 - mean_squared_error: 0.0089 - val_loss: 0.0073 - val_mean_squared_error: 0.0073 - lr: 5.0000e-19\n",
            "Epoch 19/100\n",
            "10/11 [==========================>...] - ETA: 0s - loss: 0.0087 - mean_squared_error: 0.0087\n",
            "Epoch 19: val_loss did not improve from 0.13342\n",
            "\n",
            "Epoch 19: ReduceLROnPlateau reducing learning rate to 5.00000016444504e-21.\n",
            "11/11 [==============================] - 1s 55ms/step - loss: 0.0087 - mean_squared_error: 0.0087 - val_loss: 0.0073 - val_mean_squared_error: 0.0073 - lr: 5.0000e-20\n",
            "Epoch 20/100\n",
            "11/11 [==============================] - ETA: 0s - loss: 0.0083 - mean_squared_error: 0.0083\n",
            "Epoch 20: val_loss did not improve from 0.13342\n",
            "\n",
            "Epoch 20: ReduceLROnPlateau reducing learning rate to 5.000000245224397e-22.\n",
            "11/11 [==============================] - 0s 38ms/step - loss: 0.0083 - mean_squared_error: 0.0083 - val_loss: 0.0073 - val_mean_squared_error: 0.0073 - lr: 5.0000e-21\n",
            "Epoch 21/100\n",
            "11/11 [==============================] - ETA: 0s - loss: 0.0086 - mean_squared_error: 0.0086\n",
            "Epoch 21: val_loss did not improve from 0.13342\n",
            "\n",
            "Epoch 21: ReduceLROnPlateau reducing learning rate to 5.0000003461985925e-23.\n",
            "11/11 [==============================] - 0s 35ms/step - loss: 0.0086 - mean_squared_error: 0.0086 - val_loss: 0.0073 - val_mean_squared_error: 0.0073 - lr: 5.0000e-22\n",
            "Epoch 22/100\n",
            "11/11 [==============================] - ETA: 0s - loss: 0.0084 - mean_squared_error: 0.0084\n",
            "Epoch 22: val_loss did not improve from 0.13342\n",
            "\n",
            "Epoch 22: ReduceLROnPlateau reducing learning rate to 5.000000472416337e-24.\n",
            "11/11 [==============================] - 0s 37ms/step - loss: 0.0084 - mean_squared_error: 0.0084 - val_loss: 0.0073 - val_mean_squared_error: 0.0073 - lr: 5.0000e-23\n",
            "Epoch 23/100\n",
            "10/11 [==========================>...] - ETA: 0s - loss: 0.0090 - mean_squared_error: 0.0090\n",
            "Epoch 23: val_loss did not improve from 0.13342\n",
            "\n",
            "Epoch 23: ReduceLROnPlateau reducing learning rate to 5.000000393530247e-25.\n",
            "11/11 [==============================] - 0s 31ms/step - loss: 0.0091 - mean_squared_error: 0.0091 - val_loss: 0.0073 - val_mean_squared_error: 0.0073 - lr: 5.0000e-24\n",
            "Epoch 24/100\n",
            "11/11 [==============================] - ETA: 0s - loss: 0.0089 - mean_squared_error: 0.0089\n",
            "Epoch 24: val_loss did not improve from 0.13342\n",
            "\n",
            "Epoch 24: ReduceLROnPlateau reducing learning rate to 5.000000590745473e-26.\n",
            "11/11 [==============================] - 0s 36ms/step - loss: 0.0089 - mean_squared_error: 0.0089 - val_loss: 0.0073 - val_mean_squared_error: 0.0073 - lr: 5.0000e-25\n",
            "Epoch 25/100\n",
            "11/11 [==============================] - ETA: 0s - loss: 0.0087 - mean_squared_error: 0.0087\n",
            "Epoch 25: val_loss did not improve from 0.13342\n",
            "\n",
            "Epoch 25: ReduceLROnPlateau reducing learning rate to 5.000000714004989e-27.\n",
            "11/11 [==============================] - 0s 36ms/step - loss: 0.0087 - mean_squared_error: 0.0087 - val_loss: 0.0073 - val_mean_squared_error: 0.0073 - lr: 5.0000e-26\n",
            "Epoch 26/100\n",
            "10/11 [==========================>...] - ETA: 0s - loss: 0.0088 - mean_squared_error: 0.0088\n",
            "Epoch 26: val_loss did not improve from 0.13342\n",
            "\n",
            "Epoch 26: ReduceLROnPlateau reducing learning rate to 5.00000071400499e-28.\n",
            "11/11 [==============================] - 0s 31ms/step - loss: 0.0089 - mean_squared_error: 0.0089 - val_loss: 0.0073 - val_mean_squared_error: 0.0073 - lr: 5.0000e-27\n",
            "Epoch 27/100\n",
            "11/11 [==============================] - ETA: 0s - loss: 0.0089 - mean_squared_error: 0.0089\n",
            "Epoch 27: val_loss did not improve from 0.13342\n",
            "\n",
            "Epoch 27: ReduceLROnPlateau reducing learning rate to 5.000000617708492e-29.\n",
            "11/11 [==============================] - 0s 34ms/step - loss: 0.0089 - mean_squared_error: 0.0089 - val_loss: 0.0073 - val_mean_squared_error: 0.0073 - lr: 5.0000e-28\n",
            "Epoch 28/100\n",
            " 9/11 [=======================>......] - ETA: 0s - loss: 0.0083 - mean_squared_error: 0.0083\n",
            "Epoch 28: val_loss did not improve from 0.13342\n",
            "\n",
            "Epoch 28: ReduceLROnPlateau reducing learning rate to 5.0000006177084924e-30.\n",
            "11/11 [==============================] - 0s 32ms/step - loss: 0.0085 - mean_squared_error: 0.0085 - val_loss: 0.0073 - val_mean_squared_error: 0.0073 - lr: 5.0000e-29\n",
            "Epoch 29/100\n",
            "11/11 [==============================] - ETA: 0s - loss: 0.0085 - mean_squared_error: 0.0085\n",
            "Epoch 29: val_loss did not improve from 0.13342\n",
            "\n",
            "Epoch 29: ReduceLROnPlateau reducing learning rate to 5.0000007681717695e-31.\n",
            "11/11 [==============================] - 0s 37ms/step - loss: 0.0085 - mean_squared_error: 0.0085 - val_loss: 0.0073 - val_mean_squared_error: 0.0073 - lr: 5.0000e-30\n",
            "Epoch 30/100\n",
            "11/11 [==============================] - ETA: 0s - loss: 0.0087 - mean_squared_error: 0.0087\n",
            "Epoch 30: val_loss did not improve from 0.13342\n",
            "\n",
            "Epoch 30: ReduceLROnPlateau reducing learning rate to 5.000000956250865e-32.\n",
            "11/11 [==============================] - 0s 43ms/step - loss: 0.0087 - mean_squared_error: 0.0087 - val_loss: 0.0073 - val_mean_squared_error: 0.0073 - lr: 5.0000e-31\n",
            "Epoch 31/100\n",
            "11/11 [==============================] - ETA: 0s - loss: 0.0090 - mean_squared_error: 0.0090\n",
            "Epoch 31: val_loss did not improve from 0.13342\n",
            "\n",
            "Epoch 31: ReduceLROnPlateau reducing learning rate to 5.0000010738003005e-33.\n",
            "11/11 [==============================] - 0s 40ms/step - loss: 0.0090 - mean_squared_error: 0.0090 - val_loss: 0.0073 - val_mean_squared_error: 0.0073 - lr: 5.0000e-32\n",
            "Epoch 32/100\n",
            "11/11 [==============================] - ETA: 0s - loss: 0.0083 - mean_squared_error: 0.0083\n",
            "Epoch 32: val_loss did not improve from 0.13342\n",
            "\n",
            "Epoch 32: ReduceLROnPlateau reducing learning rate to 5.000001220737094e-34.\n",
            "11/11 [==============================] - 0s 38ms/step - loss: 0.0083 - mean_squared_error: 0.0083 - val_loss: 0.0073 - val_mean_squared_error: 0.0073 - lr: 5.0000e-33\n",
            "Epoch 33/100\n",
            "11/11 [==============================] - ETA: 0s - loss: 0.0088 - mean_squared_error: 0.0088\n",
            "Epoch 33: val_loss did not improve from 0.13342\n",
            "\n",
            "Epoch 33: ReduceLROnPlateau reducing learning rate to 5.000001037066102e-35.\n",
            "11/11 [==============================] - 0s 41ms/step - loss: 0.0088 - mean_squared_error: 0.0088 - val_loss: 0.0073 - val_mean_squared_error: 0.0073 - lr: 5.0000e-34\n",
            "Epoch 34/100\n",
            "11/11 [==============================] - ETA: 0s - loss: 0.0089 - mean_squared_error: 0.0089\n",
            "Epoch 34: val_loss did not improve from 0.13342\n",
            "\n",
            "Epoch 34: ReduceLROnPlateau reducing learning rate to 5.000000807477361e-36.\n",
            "11/11 [==============================] - 0s 32ms/step - loss: 0.0089 - mean_squared_error: 0.0089 - val_loss: 0.0073 - val_mean_squared_error: 0.0073 - lr: 5.0000e-35\n",
            "Epoch 35/100\n",
            "11/11 [==============================] - ETA: 0s - loss: 0.0089 - mean_squared_error: 0.0089\n",
            "Epoch 35: val_loss did not improve from 0.13342\n",
            "\n",
            "Epoch 35: ReduceLROnPlateau reducing learning rate to 5.000000807477361e-37.\n",
            "11/11 [==============================] - 0s 33ms/step - loss: 0.0089 - mean_squared_error: 0.0089 - val_loss: 0.0073 - val_mean_squared_error: 0.0073 - lr: 5.0000e-36\n",
            "Epoch 36/100\n",
            "11/11 [==============================] - ETA: 0s - loss: 0.0087 - mean_squared_error: 0.0087\n",
            "Epoch 36: val_loss did not improve from 0.13342\n",
            "\n",
            "Epoch 36: ReduceLROnPlateau reducing learning rate to 5.000000628111158e-38.\n",
            "11/11 [==============================] - 0s 31ms/step - loss: 0.0087 - mean_squared_error: 0.0087 - val_loss: 0.0073 - val_mean_squared_error: 0.0073 - lr: 5.0000e-37\n",
            "Epoch 37/100\n",
            " 9/11 [=======================>......] - ETA: 0s - loss: 0.0085 - mean_squared_error: 0.0085\n",
            "Epoch 37: val_loss did not improve from 0.13342\n",
            "\n",
            "Epoch 37: ReduceLROnPlateau reducing learning rate to 5.000000516007281e-39.\n",
            "11/11 [==============================] - 0s 38ms/step - loss: 0.0085 - mean_squared_error: 0.0085 - val_loss: 0.0073 - val_mean_squared_error: 0.0073 - lr: 5.0000e-38\n",
            "Epoch 38/100\n",
            "11/11 [==============================] - ETA: 0s - loss: 0.0088 - mean_squared_error: 0.0088\n",
            "Epoch 38: val_loss did not improve from 0.13342\n",
            "\n",
            "Epoch 38: ReduceLROnPlateau reducing learning rate to 5.000001076526666e-40.\n",
            "11/11 [==============================] - 0s 33ms/step - loss: 0.0088 - mean_squared_error: 0.0088 - val_loss: 0.0073 - val_mean_squared_error: 0.0073 - lr: 5.0000e-39\n",
            "Epoch 39/100\n",
            "10/11 [==========================>...] - ETA: 0s - loss: 0.0093 - mean_squared_error: 0.0093\n",
            "Epoch 39: val_loss did not improve from 0.13342\n",
            "\n",
            "Epoch 39: ReduceLROnPlateau reducing learning rate to 5.000001076526667e-41.\n",
            "11/11 [==============================] - 0s 34ms/step - loss: 0.0093 - mean_squared_error: 0.0093 - val_loss: 0.0073 - val_mean_squared_error: 0.0073 - lr: 5.0000e-40\n",
            "Epoch 40/100\n",
            "11/11 [==============================] - ETA: 0s - loss: 0.0087 - mean_squared_error: 0.0087\n",
            "Epoch 40: val_loss did not improve from 0.13342\n",
            "\n",
            "Epoch 40: ReduceLROnPlateau reducing learning rate to 4.99997305055738e-42.\n",
            "11/11 [==============================] - 0s 39ms/step - loss: 0.0087 - mean_squared_error: 0.0087 - val_loss: 0.0073 - val_mean_squared_error: 0.0073 - lr: 5.0000e-41\n",
            "Epoch 41/100\n",
            "11/11 [==============================] - ETA: 0s - loss: 0.0086 - mean_squared_error: 0.0086\n",
            "Epoch 41: val_loss did not improve from 0.13342\n",
            "\n",
            "Epoch 41: ReduceLROnPlateau reducing learning rate to 4.9998329207109475e-43.\n",
            "11/11 [==============================] - 0s 40ms/step - loss: 0.0086 - mean_squared_error: 0.0086 - val_loss: 0.0073 - val_mean_squared_error: 0.0073 - lr: 4.9998e-42\n",
            "Epoch 42/100\n",
            "11/11 [==============================] - ETA: 0s - loss: 0.0088 - mean_squared_error: 0.0088\n",
            "Epoch 42: val_loss did not improve from 0.13342\n",
            "\n",
            "Epoch 42: ReduceLROnPlateau reducing learning rate to 5.002635517639597e-44.\n",
            "11/11 [==============================] - 0s 35ms/step - loss: 0.0088 - mean_squared_error: 0.0088 - val_loss: 0.0073 - val_mean_squared_error: 0.0073 - lr: 5.0026e-43\n",
            "Epoch 43/100\n",
            "11/11 [==============================] - ETA: 0s - loss: 0.0087 - mean_squared_error: 0.0087\n",
            "Epoch 43: val_loss did not improve from 0.13342\n",
            "\n",
            "Epoch 43: ReduceLROnPlateau reducing learning rate to 5.0446744715693416e-45.\n",
            "11/11 [==============================] - 0s 36ms/step - loss: 0.0087 - mean_squared_error: 0.0087 - val_loss: 0.0073 - val_mean_squared_error: 0.0073 - lr: 5.0447e-44\n",
            "Epoch 44/100\n",
            "11/11 [==============================] - ETA: 0s - loss: 0.0092 - mean_squared_error: 0.0092\n",
            "Epoch 44: val_loss did not improve from 0.13342\n",
            "\n",
            "Epoch 44: ReduceLROnPlateau reducing learning rate to 5.6051938572992686e-46.\n",
            "11/11 [==============================] - 0s 43ms/step - loss: 0.0092 - mean_squared_error: 0.0092 - val_loss: 0.0073 - val_mean_squared_error: 0.0073 - lr: 5.6052e-45\n",
            "Epoch 45/100\n",
            "10/11 [==========================>...] - ETA: 0s - loss: 0.0088 - mean_squared_error: 0.0088\n",
            "Epoch 45: val_loss did not improve from 0.13342\n",
            "11/11 [==============================] - 1s 57ms/step - loss: 0.0087 - mean_squared_error: 0.0087 - val_loss: 0.0073 - val_mean_squared_error: 0.0073 - lr: 0.0000e+00\n",
            "Epoch 46/100\n",
            "11/11 [==============================] - ETA: 0s - loss: 0.0090 - mean_squared_error: 0.0090\n",
            "Epoch 46: val_loss did not improve from 0.13342\n",
            "11/11 [==============================] - 1s 50ms/step - loss: 0.0090 - mean_squared_error: 0.0090 - val_loss: 0.0073 - val_mean_squared_error: 0.0073 - lr: 0.0000e+00\n",
            "Epoch 47/100\n",
            "10/11 [==========================>...] - ETA: 0s - loss: 0.0085 - mean_squared_error: 0.0085\n",
            "Epoch 47: val_loss did not improve from 0.13342\n",
            "11/11 [==============================] - 1s 52ms/step - loss: 0.0088 - mean_squared_error: 0.0088 - val_loss: 0.0073 - val_mean_squared_error: 0.0073 - lr: 0.0000e+00\n",
            "Epoch 48/100\n",
            "11/11 [==============================] - ETA: 0s - loss: 0.0087 - mean_squared_error: 0.0087\n",
            "Epoch 48: val_loss did not improve from 0.13342\n",
            "11/11 [==============================] - 1s 76ms/step - loss: 0.0087 - mean_squared_error: 0.0087 - val_loss: 0.0073 - val_mean_squared_error: 0.0073 - lr: 0.0000e+00\n",
            "Epoch 49/100\n",
            "11/11 [==============================] - ETA: 0s - loss: 0.0090 - mean_squared_error: 0.0090\n",
            "Epoch 49: val_loss did not improve from 0.13342\n",
            "11/11 [==============================] - 1s 69ms/step - loss: 0.0090 - mean_squared_error: 0.0090 - val_loss: 0.0073 - val_mean_squared_error: 0.0073 - lr: 0.0000e+00\n",
            "Epoch 50/100\n",
            "10/11 [==========================>...] - ETA: 0s - loss: 0.0089 - mean_squared_error: 0.0089\n",
            "Epoch 50: val_loss did not improve from 0.13342\n",
            "11/11 [==============================] - 1s 72ms/step - loss: 0.0089 - mean_squared_error: 0.0089 - val_loss: 0.0073 - val_mean_squared_error: 0.0073 - lr: 0.0000e+00\n",
            "Epoch 51/100\n",
            "11/11 [==============================] - ETA: 0s - loss: 0.0088 - mean_squared_error: 0.0088\n",
            "Epoch 51: val_loss did not improve from 0.13342\n",
            "11/11 [==============================] - 1s 66ms/step - loss: 0.0088 - mean_squared_error: 0.0088 - val_loss: 0.0073 - val_mean_squared_error: 0.0073 - lr: 0.0000e+00\n",
            "Epoch 52/100\n",
            "11/11 [==============================] - ETA: 0s - loss: 0.0087 - mean_squared_error: 0.0087\n",
            "Epoch 52: val_loss did not improve from 0.13342\n",
            "11/11 [==============================] - 1s 69ms/step - loss: 0.0087 - mean_squared_error: 0.0087 - val_loss: 0.0073 - val_mean_squared_error: 0.0073 - lr: 0.0000e+00\n",
            "Epoch 53/100\n",
            "10/11 [==========================>...] - ETA: 0s - loss: 0.0091 - mean_squared_error: 0.0091\n",
            "Epoch 53: val_loss did not improve from 0.13342\n",
            "11/11 [==============================] - 1s 52ms/step - loss: 0.0090 - mean_squared_error: 0.0090 - val_loss: 0.0073 - val_mean_squared_error: 0.0073 - lr: 0.0000e+00\n",
            "Epoch 54/100\n",
            "11/11 [==============================] - ETA: 0s - loss: 0.0087 - mean_squared_error: 0.0087\n",
            "Epoch 54: val_loss did not improve from 0.13342\n",
            "11/11 [==============================] - 1s 68ms/step - loss: 0.0087 - mean_squared_error: 0.0087 - val_loss: 0.0073 - val_mean_squared_error: 0.0073 - lr: 0.0000e+00\n",
            "Epoch 55/100\n",
            "10/11 [==========================>...] - ETA: 0s - loss: 0.0087 - mean_squared_error: 0.0087\n",
            "Epoch 55: val_loss did not improve from 0.13342\n",
            "11/11 [==============================] - 1s 57ms/step - loss: 0.0087 - mean_squared_error: 0.0087 - val_loss: 0.0073 - val_mean_squared_error: 0.0073 - lr: 0.0000e+00\n",
            "Epoch 56/100\n",
            "11/11 [==============================] - ETA: 0s - loss: 0.0091 - mean_squared_error: 0.0091\n",
            "Epoch 56: val_loss did not improve from 0.13342\n",
            "11/11 [==============================] - 1s 64ms/step - loss: 0.0091 - mean_squared_error: 0.0091 - val_loss: 0.0073 - val_mean_squared_error: 0.0073 - lr: 0.0000e+00\n",
            "Epoch 57/100\n",
            "11/11 [==============================] - ETA: 0s - loss: 0.0091 - mean_squared_error: 0.0091\n",
            "Epoch 57: val_loss did not improve from 0.13342\n",
            "11/11 [==============================] - 0s 35ms/step - loss: 0.0091 - mean_squared_error: 0.0091 - val_loss: 0.0073 - val_mean_squared_error: 0.0073 - lr: 0.0000e+00\n",
            "Epoch 58/100\n",
            "11/11 [==============================] - ETA: 0s - loss: 0.0087 - mean_squared_error: 0.0087\n",
            "Epoch 58: val_loss did not improve from 0.13342\n",
            "11/11 [==============================] - 0s 39ms/step - loss: 0.0087 - mean_squared_error: 0.0087 - val_loss: 0.0073 - val_mean_squared_error: 0.0073 - lr: 0.0000e+00\n",
            "Epoch 59/100\n",
            "10/11 [==========================>...] - ETA: 0s - loss: 0.0086 - mean_squared_error: 0.0086\n",
            "Epoch 59: val_loss did not improve from 0.13342\n",
            "11/11 [==============================] - 0s 33ms/step - loss: 0.0087 - mean_squared_error: 0.0087 - val_loss: 0.0073 - val_mean_squared_error: 0.0073 - lr: 0.0000e+00\n",
            "Epoch 60/100\n",
            "10/11 [==========================>...] - ETA: 0s - loss: 0.0087 - mean_squared_error: 0.0087\n",
            "Epoch 60: val_loss did not improve from 0.13342\n",
            "11/11 [==============================] - 0s 37ms/step - loss: 0.0086 - mean_squared_error: 0.0086 - val_loss: 0.0073 - val_mean_squared_error: 0.0073 - lr: 0.0000e+00\n",
            "Epoch 61/100\n",
            "11/11 [==============================] - ETA: 0s - loss: 0.0088 - mean_squared_error: 0.0088\n",
            "Epoch 61: val_loss did not improve from 0.13342\n",
            "11/11 [==============================] - 0s 37ms/step - loss: 0.0088 - mean_squared_error: 0.0088 - val_loss: 0.0073 - val_mean_squared_error: 0.0073 - lr: 0.0000e+00\n",
            "Epoch 62/100\n",
            "11/11 [==============================] - ETA: 0s - loss: 0.0091 - mean_squared_error: 0.0091\n",
            "Epoch 62: val_loss did not improve from 0.13342\n",
            "11/11 [==============================] - 0s 41ms/step - loss: 0.0091 - mean_squared_error: 0.0091 - val_loss: 0.0073 - val_mean_squared_error: 0.0073 - lr: 0.0000e+00\n",
            "Epoch 63/100\n",
            "11/11 [==============================] - ETA: 0s - loss: 0.0087 - mean_squared_error: 0.0087\n",
            "Epoch 63: val_loss did not improve from 0.13342\n",
            "11/11 [==============================] - 0s 38ms/step - loss: 0.0087 - mean_squared_error: 0.0087 - val_loss: 0.0073 - val_mean_squared_error: 0.0073 - lr: 0.0000e+00\n",
            "Epoch 64/100\n",
            "11/11 [==============================] - ETA: 0s - loss: 0.0089 - mean_squared_error: 0.0089\n",
            "Epoch 64: val_loss did not improve from 0.13342\n",
            "11/11 [==============================] - 0s 37ms/step - loss: 0.0089 - mean_squared_error: 0.0089 - val_loss: 0.0073 - val_mean_squared_error: 0.0073 - lr: 0.0000e+00\n",
            "Epoch 65/100\n",
            "10/11 [==========================>...] - ETA: 0s - loss: 0.0085 - mean_squared_error: 0.0085\n",
            "Epoch 65: val_loss did not improve from 0.13342\n",
            "11/11 [==============================] - 0s 35ms/step - loss: 0.0085 - mean_squared_error: 0.0085 - val_loss: 0.0073 - val_mean_squared_error: 0.0073 - lr: 0.0000e+00\n",
            "Epoch 66/100\n",
            "10/11 [==========================>...] - ETA: 0s - loss: 0.0091 - mean_squared_error: 0.0091\n",
            "Epoch 66: val_loss did not improve from 0.13342\n",
            "11/11 [==============================] - 0s 36ms/step - loss: 0.0090 - mean_squared_error: 0.0090 - val_loss: 0.0073 - val_mean_squared_error: 0.0073 - lr: 0.0000e+00\n",
            "Epoch 67/100\n",
            "10/11 [==========================>...] - ETA: 0s - loss: 0.0088 - mean_squared_error: 0.0088\n",
            "Epoch 67: val_loss did not improve from 0.13342\n",
            "11/11 [==============================] - 0s 37ms/step - loss: 0.0088 - mean_squared_error: 0.0088 - val_loss: 0.0073 - val_mean_squared_error: 0.0073 - lr: 0.0000e+00\n",
            "Epoch 68/100\n",
            "11/11 [==============================] - ETA: 0s - loss: 0.0088 - mean_squared_error: 0.0088\n",
            "Epoch 68: val_loss did not improve from 0.13342\n",
            "11/11 [==============================] - 0s 40ms/step - loss: 0.0088 - mean_squared_error: 0.0088 - val_loss: 0.0073 - val_mean_squared_error: 0.0073 - lr: 0.0000e+00\n",
            "Epoch 69/100\n",
            "11/11 [==============================] - ETA: 0s - loss: 0.0089 - mean_squared_error: 0.0089\n",
            "Epoch 69: val_loss did not improve from 0.13342\n",
            "11/11 [==============================] - 1s 124ms/step - loss: 0.0089 - mean_squared_error: 0.0089 - val_loss: 0.0073 - val_mean_squared_error: 0.0073 - lr: 0.0000e+00\n",
            "Epoch 70/100\n",
            "11/11 [==============================] - ETA: 0s - loss: 0.0085 - mean_squared_error: 0.0085\n",
            "Epoch 70: val_loss did not improve from 0.13342\n",
            "11/11 [==============================] - 1s 101ms/step - loss: 0.0085 - mean_squared_error: 0.0085 - val_loss: 0.0073 - val_mean_squared_error: 0.0073 - lr: 0.0000e+00\n",
            "Epoch 71/100\n",
            "11/11 [==============================] - ETA: 0s - loss: 0.0088 - mean_squared_error: 0.0088\n",
            "Epoch 71: val_loss did not improve from 0.13342\n",
            "11/11 [==============================] - 1s 87ms/step - loss: 0.0088 - mean_squared_error: 0.0088 - val_loss: 0.0073 - val_mean_squared_error: 0.0073 - lr: 0.0000e+00\n",
            "Epoch 72/100\n",
            "11/11 [==============================] - ETA: 0s - loss: 0.0085 - mean_squared_error: 0.0085\n",
            "Epoch 72: val_loss did not improve from 0.13342\n",
            "11/11 [==============================] - 1s 66ms/step - loss: 0.0085 - mean_squared_error: 0.0085 - val_loss: 0.0073 - val_mean_squared_error: 0.0073 - lr: 0.0000e+00\n",
            "Epoch 73/100\n",
            "11/11 [==============================] - ETA: 0s - loss: 0.0088 - mean_squared_error: 0.0088\n",
            "Epoch 73: val_loss did not improve from 0.13342\n",
            "11/11 [==============================] - 1s 65ms/step - loss: 0.0088 - mean_squared_error: 0.0088 - val_loss: 0.0073 - val_mean_squared_error: 0.0073 - lr: 0.0000e+00\n",
            "Epoch 74/100\n",
            "10/11 [==========================>...] - ETA: 0s - loss: 0.0091 - mean_squared_error: 0.0091\n",
            "Epoch 74: val_loss did not improve from 0.13342\n",
            "11/11 [==============================] - 1s 58ms/step - loss: 0.0091 - mean_squared_error: 0.0091 - val_loss: 0.0073 - val_mean_squared_error: 0.0073 - lr: 0.0000e+00\n",
            "Epoch 75/100\n",
            "10/11 [==========================>...] - ETA: 0s - loss: 0.0089 - mean_squared_error: 0.0089\n",
            "Epoch 75: val_loss did not improve from 0.13342\n",
            "11/11 [==============================] - 1s 60ms/step - loss: 0.0090 - mean_squared_error: 0.0090 - val_loss: 0.0073 - val_mean_squared_error: 0.0073 - lr: 0.0000e+00\n",
            "Epoch 76/100\n",
            "11/11 [==============================] - ETA: 0s - loss: 0.0090 - mean_squared_error: 0.0090\n",
            "Epoch 76: val_loss did not improve from 0.13342\n",
            "11/11 [==============================] - 1s 57ms/step - loss: 0.0090 - mean_squared_error: 0.0090 - val_loss: 0.0073 - val_mean_squared_error: 0.0073 - lr: 0.0000e+00\n",
            "Epoch 77/100\n",
            "11/11 [==============================] - ETA: 0s - loss: 0.0089 - mean_squared_error: 0.0089\n",
            "Epoch 77: val_loss did not improve from 0.13342\n",
            "11/11 [==============================] - 0s 37ms/step - loss: 0.0089 - mean_squared_error: 0.0089 - val_loss: 0.0073 - val_mean_squared_error: 0.0073 - lr: 0.0000e+00\n",
            "Epoch 78/100\n",
            "11/11 [==============================] - ETA: 0s - loss: 0.0093 - mean_squared_error: 0.0093\n",
            "Epoch 78: val_loss did not improve from 0.13342\n",
            "11/11 [==============================] - 0s 41ms/step - loss: 0.0093 - mean_squared_error: 0.0093 - val_loss: 0.0073 - val_mean_squared_error: 0.0073 - lr: 0.0000e+00\n",
            "Epoch 79/100\n",
            "11/11 [==============================] - ETA: 0s - loss: 0.0088 - mean_squared_error: 0.0088\n",
            "Epoch 79: val_loss did not improve from 0.13342\n",
            "11/11 [==============================] - 0s 42ms/step - loss: 0.0088 - mean_squared_error: 0.0088 - val_loss: 0.0073 - val_mean_squared_error: 0.0073 - lr: 0.0000e+00\n",
            "Epoch 80/100\n",
            "11/11 [==============================] - ETA: 0s - loss: 0.0088 - mean_squared_error: 0.0088\n",
            "Epoch 80: val_loss did not improve from 0.13342\n",
            "11/11 [==============================] - 1s 74ms/step - loss: 0.0088 - mean_squared_error: 0.0088 - val_loss: 0.0073 - val_mean_squared_error: 0.0073 - lr: 0.0000e+00\n",
            "Epoch 81/100\n",
            "10/11 [==========================>...] - ETA: 0s - loss: 0.0086 - mean_squared_error: 0.0086\n",
            "Epoch 81: val_loss did not improve from 0.13342\n",
            "11/11 [==============================] - 1s 71ms/step - loss: 0.0086 - mean_squared_error: 0.0086 - val_loss: 0.0073 - val_mean_squared_error: 0.0073 - lr: 0.0000e+00\n",
            "Epoch 82/100\n",
            "11/11 [==============================] - ETA: 0s - loss: 0.0089 - mean_squared_error: 0.0089\n",
            "Epoch 82: val_loss did not improve from 0.13342\n",
            "11/11 [==============================] - 1s 95ms/step - loss: 0.0089 - mean_squared_error: 0.0089 - val_loss: 0.0073 - val_mean_squared_error: 0.0073 - lr: 0.0000e+00\n",
            "Epoch 83/100\n",
            "10/11 [==========================>...] - ETA: 0s - loss: 0.0088 - mean_squared_error: 0.0088\n",
            "Epoch 83: val_loss did not improve from 0.13342\n",
            "11/11 [==============================] - 1s 76ms/step - loss: 0.0089 - mean_squared_error: 0.0089 - val_loss: 0.0073 - val_mean_squared_error: 0.0073 - lr: 0.0000e+00\n",
            "Epoch 84/100\n",
            "11/11 [==============================] - ETA: 0s - loss: 0.0089 - mean_squared_error: 0.0089\n",
            "Epoch 84: val_loss did not improve from 0.13342\n",
            "11/11 [==============================] - 1s 74ms/step - loss: 0.0089 - mean_squared_error: 0.0089 - val_loss: 0.0073 - val_mean_squared_error: 0.0073 - lr: 0.0000e+00\n",
            "Epoch 85/100\n",
            "11/11 [==============================] - ETA: 0s - loss: 0.0089 - mean_squared_error: 0.0089\n",
            "Epoch 85: val_loss did not improve from 0.13342\n",
            "11/11 [==============================] - 1s 66ms/step - loss: 0.0089 - mean_squared_error: 0.0089 - val_loss: 0.0073 - val_mean_squared_error: 0.0073 - lr: 0.0000e+00\n",
            "Epoch 86/100\n",
            "11/11 [==============================] - ETA: 0s - loss: 0.0086 - mean_squared_error: 0.0086\n",
            "Epoch 86: val_loss did not improve from 0.13342\n",
            "11/11 [==============================] - 1s 82ms/step - loss: 0.0086 - mean_squared_error: 0.0086 - val_loss: 0.0073 - val_mean_squared_error: 0.0073 - lr: 0.0000e+00\n",
            "Epoch 87/100\n",
            "11/11 [==============================] - ETA: 0s - loss: 0.0089 - mean_squared_error: 0.0089\n",
            "Epoch 87: val_loss did not improve from 0.13342\n",
            "11/11 [==============================] - 1s 108ms/step - loss: 0.0089 - mean_squared_error: 0.0089 - val_loss: 0.0073 - val_mean_squared_error: 0.0073 - lr: 0.0000e+00\n",
            "Epoch 88/100\n",
            "11/11 [==============================] - ETA: 0s - loss: 0.0087 - mean_squared_error: 0.0087\n",
            "Epoch 88: val_loss did not improve from 0.13342\n",
            "11/11 [==============================] - 1s 92ms/step - loss: 0.0087 - mean_squared_error: 0.0087 - val_loss: 0.0073 - val_mean_squared_error: 0.0073 - lr: 0.0000e+00\n",
            "Epoch 89/100\n",
            "11/11 [==============================] - ETA: 0s - loss: 0.0089 - mean_squared_error: 0.0089\n",
            "Epoch 89: val_loss did not improve from 0.13342\n",
            "11/11 [==============================] - 1s 85ms/step - loss: 0.0089 - mean_squared_error: 0.0089 - val_loss: 0.0073 - val_mean_squared_error: 0.0073 - lr: 0.0000e+00\n",
            "Epoch 90/100\n",
            "11/11 [==============================] - ETA: 0s - loss: 0.0087 - mean_squared_error: 0.0087\n",
            "Epoch 90: val_loss did not improve from 0.13342\n",
            "11/11 [==============================] - 1s 64ms/step - loss: 0.0087 - mean_squared_error: 0.0087 - val_loss: 0.0073 - val_mean_squared_error: 0.0073 - lr: 0.0000e+00\n",
            "Epoch 91/100\n",
            "11/11 [==============================] - ETA: 0s - loss: 0.0086 - mean_squared_error: 0.0086\n",
            "Epoch 91: val_loss did not improve from 0.13342\n",
            "11/11 [==============================] - 1s 76ms/step - loss: 0.0086 - mean_squared_error: 0.0086 - val_loss: 0.0073 - val_mean_squared_error: 0.0073 - lr: 0.0000e+00\n",
            "Epoch 92/100\n",
            "10/11 [==========================>...] - ETA: 0s - loss: 0.0087 - mean_squared_error: 0.0087\n",
            "Epoch 92: val_loss did not improve from 0.13342\n",
            "11/11 [==============================] - 1s 83ms/step - loss: 0.0087 - mean_squared_error: 0.0087 - val_loss: 0.0073 - val_mean_squared_error: 0.0073 - lr: 0.0000e+00\n",
            "Epoch 93/100\n",
            "11/11 [==============================] - ETA: 0s - loss: 0.0088 - mean_squared_error: 0.0088\n",
            "Epoch 93: val_loss did not improve from 0.13342\n",
            "11/11 [==============================] - 1s 78ms/step - loss: 0.0088 - mean_squared_error: 0.0088 - val_loss: 0.0073 - val_mean_squared_error: 0.0073 - lr: 0.0000e+00\n",
            "Epoch 94/100\n",
            "11/11 [==============================] - ETA: 0s - loss: 0.0091 - mean_squared_error: 0.0091\n",
            "Epoch 94: val_loss did not improve from 0.13342\n",
            "11/11 [==============================] - 1s 97ms/step - loss: 0.0091 - mean_squared_error: 0.0091 - val_loss: 0.0073 - val_mean_squared_error: 0.0073 - lr: 0.0000e+00\n",
            "Epoch 95/100\n",
            "11/11 [==============================] - ETA: 0s - loss: 0.0090 - mean_squared_error: 0.0090\n",
            "Epoch 95: val_loss did not improve from 0.13342\n",
            "11/11 [==============================] - 1s 93ms/step - loss: 0.0090 - mean_squared_error: 0.0090 - val_loss: 0.0073 - val_mean_squared_error: 0.0073 - lr: 0.0000e+00\n",
            "Epoch 96/100\n",
            "11/11 [==============================] - ETA: 0s - loss: 0.0088 - mean_squared_error: 0.0088\n",
            "Epoch 96: val_loss did not improve from 0.13342\n",
            "11/11 [==============================] - 1s 80ms/step - loss: 0.0088 - mean_squared_error: 0.0088 - val_loss: 0.0073 - val_mean_squared_error: 0.0073 - lr: 0.0000e+00\n",
            "Epoch 97/100\n",
            "10/11 [==========================>...] - ETA: 0s - loss: 0.0091 - mean_squared_error: 0.0091\n",
            "Epoch 97: val_loss did not improve from 0.13342\n",
            "11/11 [==============================] - 1s 62ms/step - loss: 0.0092 - mean_squared_error: 0.0092 - val_loss: 0.0073 - val_mean_squared_error: 0.0073 - lr: 0.0000e+00\n",
            "Epoch 98/100\n",
            "11/11 [==============================] - ETA: 0s - loss: 0.0084 - mean_squared_error: 0.0084\n",
            "Epoch 98: val_loss did not improve from 0.13342\n",
            "11/11 [==============================] - 1s 59ms/step - loss: 0.0084 - mean_squared_error: 0.0084 - val_loss: 0.0073 - val_mean_squared_error: 0.0073 - lr: 0.0000e+00\n",
            "Epoch 99/100\n",
            "10/11 [==========================>...] - ETA: 0s - loss: 0.0087 - mean_squared_error: 0.0087\n",
            "Epoch 99: val_loss did not improve from 0.13342\n",
            "11/11 [==============================] - 1s 65ms/step - loss: 0.0087 - mean_squared_error: 0.0087 - val_loss: 0.0073 - val_mean_squared_error: 0.0073 - lr: 0.0000e+00\n",
            "Epoch 100/100\n",
            "11/11 [==============================] - ETA: 0s - loss: 0.0090 - mean_squared_error: 0.0090\n",
            "Epoch 100: val_loss did not improve from 0.13342\n",
            "11/11 [==============================] - 1s 57ms/step - loss: 0.0090 - mean_squared_error: 0.0090 - val_loss: 0.0073 - val_mean_squared_error: 0.0073 - lr: 0.0000e+00\n"
          ]
        }
      ]
    },
    {
      "cell_type": "code",
      "source": [
        "\n",
        "test_pred = model.predict(testX)\n",
        "display (test_pred [:10])\n"
      ],
      "metadata": {
        "colab": {
          "base_uri": "https://localhost:8080/",
          "height": 208
        },
        "id": "jQQ5cRKHkjWe",
        "outputId": "28073307-56b4-430a-8a66-a62c3169b69c"
      },
      "execution_count": null,
      "outputs": [
        {
          "output_type": "stream",
          "name": "stdout",
          "text": [
            "11/11 [==============================] - 1s 6ms/step\n"
          ]
        },
        {
          "output_type": "display_data",
          "data": {
            "text/plain": [
              "array([[0.53805447],\n",
              "       [0.51559144],\n",
              "       [0.51358443],\n",
              "       [0.52889526],\n",
              "       [0.5305176 ],\n",
              "       [0.5259438 ],\n",
              "       [0.5182444 ],\n",
              "       [0.50498205],\n",
              "       [0.48588696],\n",
              "       [0.46253163]], dtype=float32)"
            ]
          },
          "metadata": {}
        }
      ]
    },
    {
      "cell_type": "code",
      "source": [
        "test_pred = scaler.inverse_transform(test_pred)\n",
        "display (test_pred [:10])\n"
      ],
      "metadata": {
        "colab": {
          "base_uri": "https://localhost:8080/",
          "height": 191
        },
        "id": "Zgx-2geqk1gW",
        "outputId": "add8ae85-8fa5-4586-f2e3-ea8899ff4f6e"
      },
      "execution_count": null,
      "outputs": [
        {
          "output_type": "display_data",
          "data": {
            "text/plain": [
              "array([[33.300888],\n",
              "       [32.373615],\n",
              "       [32.290764],\n",
              "       [32.922794],\n",
              "       [32.989765],\n",
              "       [32.80096 ],\n",
              "       [32.483128],\n",
              "       [31.935658],\n",
              "       [31.147413],\n",
              "       [30.183304]], dtype=float32)"
            ]
          },
          "metadata": {}
        }
      ]
    },
    {
      "cell_type": "code",
      "source": [
        "testY = testY.reshape(testY.shape[0] , 1)\n",
        "#Converting reshaped list in 1D array so that it will be efficient in plotting\n",
        "testY = scaler.inverse_transform(testY)\n",
        "# taking testY from 1 to 10\n",
        "display (testY[:10])\n"
      ],
      "metadata": {
        "colab": {
          "base_uri": "https://localhost:8080/",
          "height": 191
        },
        "id": "iPkTXEihk1jA",
        "outputId": "e5a5faf7-d450-4b05-f91a-6ea36c1159de"
      },
      "execution_count": null,
      "outputs": [
        {
          "output_type": "display_data",
          "data": {
            "text/plain": [
              "array([[34.490002],\n",
              "       [35.93    ],\n",
              "       [36.240002],\n",
              "       [36.099998],\n",
              "       [35.689999],\n",
              "       [35.189999],\n",
              "       [34.099998],\n",
              "       [32.93    ],\n",
              "       [31.309999],\n",
              "       [31.74    ]])"
            ]
          },
          "metadata": {}
        }
      ]
    },
    {
      "cell_type": "code",
      "source": [
        "from sklearn.metrics import r2_score\n",
        "r2_score(testY,test_pred)\n"
      ],
      "metadata": {
        "colab": {
          "base_uri": "https://localhost:8080/"
        },
        "id": "Hut-EQAfkYes",
        "outputId": "f1d1db18-6239-41ad-e394-7c8d9e4e9c0b"
      },
      "execution_count": null,
      "outputs": [
        {
          "output_type": "execute_result",
          "data": {
            "text/plain": [
              "0.35911299508775174"
            ]
          },
          "metadata": {},
          "execution_count": 60
        }
      ]
    },
    {
      "cell_type": "code",
      "source": [
        "# Ploting the graph of stock prices with time\n",
        "print(\"Red - Predicted Stock Prices  ,  Blue - Actual Stock Prices\")\n",
        "plt.rcParams[\"figure.figsize\"] = (15,7)\n",
        "# testY is the blue line\n",
        "plt.plot(testY , 'b')\n",
        "# pred is the red line\n",
        "plt.plot(test_pred , 'r')\n",
        "# Setting x axis as time\n",
        "plt.xlabel('Time')\n",
        "# Setting y axis as stock prices\n",
        "plt.ylabel('Stock Prices')\n",
        "# setting title \n",
        "plt.title('Check the accuracy of the model with time')\n",
        "# enabling grids in graph \n",
        "plt.grid(True)\n",
        "# it call the graph with labels, titles, lines\n",
        "plt.show()"
      ],
      "metadata": {
        "colab": {
          "base_uri": "https://localhost:8080/",
          "height": 432
        },
        "id": "ulwYbg0WkYh-",
        "outputId": "4791cf01-b996-4614-8565-06a10e4de1a8"
      },
      "execution_count": null,
      "outputs": [
        {
          "output_type": "stream",
          "name": "stdout",
          "text": [
            "Red - Predicted Stock Prices  ,  Blue - Actual Stock Prices\n"
          ]
        },
        {
          "output_type": "display_data",
          "data": {
            "text/plain": [
              "<Figure size 1080x504 with 1 Axes>"
            ],
            "image/png": "[encoded data removed]"
          },
          "metadata": {
            "needs_background": "light"
          }
        }
      ]
    },
    {
      "cell_type": "code",
      "source": [
        "train_pred = model.predict(trainX)\n",
        "train_pred = scaler.inverse_transform(train_pred)\n",
        "trainY = trainY.reshape(trainY.shape[0] , 1)\n",
        "trainY = scaler.inverse_transform(trainY)\n",
        "print ('Display Accuracy Training Data')\n",
        "display (r2_score(trainY,train_pred))\n"
      ],
      "metadata": {
        "colab": {
          "base_uri": "https://localhost:8080/",
          "height": 69
        },
        "id": "w5uboYnik_l7",
        "outputId": "cfa6fc59-c50a-40bc-f727-08c5528da1fb"
      },
      "execution_count": null,
      "outputs": [
        {
          "output_type": "stream",
          "name": "stdout",
          "text": [
            "44/44 [==============================] - 0s 6ms/step\n",
            "Display Accuracy Training Data\n"
          ]
        },
        {
          "output_type": "display_data",
          "data": {
            "text/plain": [
              "0.899480965378644"
            ]
          },
          "metadata": {}
        }
      ]
    },
    {
      "cell_type": "code",
      "source": [
        "# Ploting the graph of stock prices with time - Training Data\n",
        "print(\"Red - Predicted Stock Prices  ,  Blue - Actual Stock Prices\")\n",
        "plt.rcParams[\"figure.figsize\"] = (15,7)\n",
        "plt.plot(trainY  , 'b')\n",
        "plt.plot(train_pred, 'r')\n",
        "plt.xlabel('Time')\n",
        "plt.ylabel('Stock Prices')\n",
        "plt.title('Check the accuracy of the model with time')\n",
        "plt.grid(True)\n",
        "plt.show()\n",
        "\n"
      ],
      "metadata": {
        "colab": {
          "base_uri": "https://localhost:8080/",
          "height": 436
        },
        "id": "HXK3veg9k_pE",
        "outputId": "f062bfe2-e462-4e70-99a8-d7d9a541ae6f"
      },
      "execution_count": null,
      "outputs": [
        {
          "output_type": "stream",
          "name": "stdout",
          "text": [
            "Red - Predicted Stock Prices  ,  Blue - Actual Stock Prices\n"
          ]
        },
        {
          "output_type": "display_data",
          "data": {
            "text/plain": [
              "<Figure size 1080x504 with 1 Axes>"
            ],
            "image/png": "[encoded data removed]"
          },
          "metadata": {
            "needs_background": "light"
          }
        }
      ]
    },
    {
      "cell_type": "code",
      "source": [
        "stocks_pred = model.predict(stocksX)\n",
        "stocks_pred = scaler.inverse_transform(stocks_pred)\n",
        "stocksY = stocksY.reshape(stocksY.shape[0] , 1)\n",
        "stocksY = scaler.inverse_transform(stocksY)\n",
        "print ('Display Accuracy Training Data')\n",
        "display (r2_score(stocksY,stocks_pred))\n"
      ],
      "metadata": {
        "colab": {
          "base_uri": "https://localhost:8080/",
          "height": 69
        },
        "id": "nHd80L-Hk_sV",
        "outputId": "1f777d58-12e6-45c3-c556-1041a9cd8403"
      },
      "execution_count": null,
      "outputs": [
        {
          "output_type": "stream",
          "name": "stdout",
          "text": [
            "55/55 [==============================] - 1s 11ms/step\n",
            "Display Accuracy Training Data\n"
          ]
        },
        {
          "output_type": "display_data",
          "data": {
            "text/plain": [
              "0.8989844410673247"
            ]
          },
          "metadata": {}
        }
      ]
    },
    {
      "cell_type": "code",
      "source": [
        "plt.rcParams[\"figure.figsize\"] = (15,7)\n",
        "plt.plot(stocksY  , 'b')\n",
        "plt.plot(stocks_pred, 'r')\n",
        "plt.xlabel('Time')\n",
        "plt.ylabel('Stock Prices')\n",
        "plt.title('Check the accuracy of the model with time')\n",
        "plt.grid(True)\n",
        "plt.show()\n"
      ],
      "metadata": {
        "colab": {
          "base_uri": "https://localhost:8080/",
          "height": 419
        },
        "id": "SDMWuuWCk_vG",
        "outputId": "3b197f06-e187-40a0-c3ee-8824ca6174d4"
      },
      "execution_count": null,
      "outputs": [
        {
          "output_type": "display_data",
          "data": {
            "text/plain": [
              "<Figure size 1080x504 with 1 Axes>"
            ],
            "image/png": "[encoded data removed]"
          },
          "metadata": {
            "needs_background": "light"
          }
        }
      ]
    },
    {
      "cell_type": "code",
      "source": [
        "# Extract the data related to company - YHOO\n",
        "results= df[df.symbol.isin (['YHOO'])]\n",
        "# Update the data frame starting with 2nd records , since first prediction is for 2nd record\n",
        "results= results [2:]\n",
        "# Reset the index 0, 1,2 etc\n",
        "results = results.reset_index(drop=True)\n",
        "# Convert Predicted Value to Data Frame\n",
        "df_stocks_pred= pd.DataFrame(stocks_pred, columns = ['Close_Prediction'])\n",
        "# Concat Original and prediction data\n",
        "results= pd.concat([results,df_stocks_pred],axis =1)\n",
        "results.to_excel('results.xlsx')\n",
        "display(results)\n"
      ],
      "metadata": {
        "colab": {
          "base_uri": "https://localhost:8080/",
          "height": 423
        },
        "id": "pmEKfK5Tk_yW",
        "outputId": "20a99759-b9ba-42c8-9b59-e8e5fcdade31"
      },
      "execution_count": null,
      "outputs": [
        {
          "output_type": "display_data",
          "data": {
            "text/plain": [
              "            date symbol       open      close        low       high  \\\n",
              "0     2010-01-06   YHOO  17.170000  17.170000  17.070000  17.299999   \n",
              "1     2010-01-07   YHOO  16.809999  16.700001  16.570000  16.900000   \n",
              "2     2010-01-08   YHOO  16.680000  16.700001  16.620001  16.760000   \n",
              "3     2010-01-11   YHOO  16.770000  16.740000  16.480000  16.830000   \n",
              "4     2010-01-12   YHOO  16.650000  16.680000  16.600000  16.860001   \n",
              "...          ...    ...        ...        ...        ...        ...   \n",
              "1755  2016-12-23   YHOO  38.459999  38.660000  38.369999  38.810001   \n",
              "1756  2016-12-27   YHOO  38.590000  38.919998  38.500000  39.070000   \n",
              "1757  2016-12-28   YHOO  39.119999  38.730000  38.709999  39.220001   \n",
              "1758  2016-12-29   YHOO  38.759998  38.639999  38.480000  38.930000   \n",
              "1759  2016-12-30   YHOO  38.720001  38.669998  38.430000  39.000000   \n",
              "\n",
              "          volume  Close_Prediction  \n",
              "0     16422000.0         20.001022  \n",
              "1     31816300.0         20.026947  \n",
              "2     15470000.0         19.857290  \n",
              "3     16181900.0         19.695004  \n",
              "4     15672400.0         19.707663  \n",
              "...          ...               ...  \n",
              "1755   3840100.0         34.870323  \n",
              "1756   4240300.0         34.683754  \n",
              "1757   4393500.0         34.830666  \n",
              "1758   4170200.0         34.862797  \n",
              "1759   6431600.0         34.762108  \n",
              "\n",
              "[1760 rows x 8 columns]"
            ],
            "text/html": [
              "\n",
              "  <div id=\"df-981b74b8-5026-4148-a584-5821301a4ca8\">\n",
              "    <div class=\"colab-df-container\">\n",
              "      <div>\n",
              "<style scoped>\n",
              "    .dataframe tbody tr th:only-of-type {\n",
              "        vertical-align: middle;\n",
              "    }\n",
              "\n",
              "    .dataframe tbody tr th {\n",
              "        vertical-align: top;\n",
              "    }\n",
              "\n",
              "    .dataframe thead th {\n",
              "        text-align: right;\n",
              "    }\n",
              "</style>\n",
              "<table border=\"1\" class=\"dataframe\">\n",
              "  <thead>\n",
              "    <tr style=\"text-align: right;\">\n",
              "      <th></th>\n",
              "      <th>date</th>\n",
              "      <th>symbol</th>\n",
              "      <th>open</th>\n",
              "      <th>close</th>\n",
              "      <th>low</th>\n",
              "      <th>high</th>\n",
              "      <th>volume</th>\n",
              "      <th>Close_Prediction</th>\n",
              "    </tr>\n",
              "  </thead>\n",
              "  <tbody>\n",
              "    <tr>\n",
              "      <th>0</th>\n",
              "      <td>2010-01-06</td>\n",
              "      <td>YHOO</td>\n",
              "      <td>17.170000</td>\n",
              "      <td>17.170000</td>\n",
              "      <td>17.070000</td>\n",
              "      <td>17.299999</td>\n",
              "      <td>16422000.0</td>\n",
              "      <td>20.001022</td>\n",
              "    </tr>\n",
              "    <tr>\n",
              "      <th>1</th>\n",
              "      <td>2010-01-07</td>\n",
              "      <td>YHOO</td>\n",
              "      <td>16.809999</td>\n",
              "      <td>16.700001</td>\n",
              "      <td>16.570000</td>\n",
              "      <td>16.900000</td>\n",
              "      <td>31816300.0</td>\n",
              "      <td>20.026947</td>\n",
              "    </tr>\n",
              "    <tr>\n",
              "      <th>2</th>\n",
              "      <td>2010-01-08</td>\n",
              "      <td>YHOO</td>\n",
              "      <td>16.680000</td>\n",
              "      <td>16.700001</td>\n",
              "      <td>16.620001</td>\n",
              "      <td>16.760000</td>\n",
              "      <td>15470000.0</td>\n",
              "      <td>19.857290</td>\n",
              "    </tr>\n",
              "    <tr>\n",
              "      <th>3</th>\n",
              "      <td>2010-01-11</td>\n",
              "      <td>YHOO</td>\n",
              "      <td>16.770000</td>\n",
              "      <td>16.740000</td>\n",
              "      <td>16.480000</td>\n",
              "      <td>16.830000</td>\n",
              "      <td>16181900.0</td>\n",
              "      <td>19.695004</td>\n",
              "    </tr>\n",
              "    <tr>\n",
              "      <th>4</th>\n",
              "      <td>2010-01-12</td>\n",
              "      <td>YHOO</td>\n",
              "      <td>16.650000</td>\n",
              "      <td>16.680000</td>\n",
              "      <td>16.600000</td>\n",
              "      <td>16.860001</td>\n",
              "      <td>15672400.0</td>\n",
              "      <td>19.707663</td>\n",
              "    </tr>\n",
              "    <tr>\n",
              "      <th>...</th>\n",
              "      <td>...</td>\n",
              "      <td>...</td>\n",
              "      <td>...</td>\n",
              "      <td>...</td>\n",
              "      <td>...</td>\n",
              "      <td>...</td>\n",
              "      <td>...</td>\n",
              "      <td>...</td>\n",
              "    </tr>\n",
              "    <tr>\n",
              "      <th>1755</th>\n",
              "      <td>2016-12-23</td>\n",
              "      <td>YHOO</td>\n",
              "      <td>38.459999</td>\n",
              "      <td>38.660000</td>\n",
              "      <td>38.369999</td>\n",
              "      <td>38.810001</td>\n",
              "      <td>3840100.0</td>\n",
              "      <td>34.870323</td>\n",
              "    </tr>\n",
              "    <tr>\n",
              "      <th>1756</th>\n",
              "      <td>2016-12-27</td>\n",
              "      <td>YHOO</td>\n",
              "      <td>38.590000</td>\n",
              "      <td>38.919998</td>\n",
              "      <td>38.500000</td>\n",
              "      <td>39.070000</td>\n",
              "      <td>4240300.0</td>\n",
              "      <td>34.683754</td>\n",
              "    </tr>\n",
              "    <tr>\n",
              "      <th>1757</th>\n",
              "      <td>2016-12-28</td>\n",
              "      <td>YHOO</td>\n",
              "      <td>39.119999</td>\n",
              "      <td>38.730000</td>\n",
              "      <td>38.709999</td>\n",
              "      <td>39.220001</td>\n",
              "      <td>4393500.0</td>\n",
              "      <td>34.830666</td>\n",
              "    </tr>\n",
              "    <tr>\n",
              "      <th>1758</th>\n",
              "      <td>2016-12-29</td>\n",
              "      <td>YHOO</td>\n",
              "      <td>38.759998</td>\n",
              "      <td>38.639999</td>\n",
              "      <td>38.480000</td>\n",
              "      <td>38.930000</td>\n",
              "      <td>4170200.0</td>\n",
              "      <td>34.862797</td>\n",
              "    </tr>\n",
              "    <tr>\n",
              "      <th>1759</th>\n",
              "      <td>2016-12-30</td>\n",
              "      <td>YHOO</td>\n",
              "      <td>38.720001</td>\n",
              "      <td>38.669998</td>\n",
              "      <td>38.430000</td>\n",
              "      <td>39.000000</td>\n",
              "      <td>6431600.0</td>\n",
              "      <td>34.762108</td>\n",
              "    </tr>\n",
              "  </tbody>\n",
              "</table>\n",
              "<p>1760 rows × 8 columns</p>\n",
              "</div>\n",
              "      <button class=\"colab-df-convert\" onclick=\"convertToInteractive('df-981b74b8-5026-4148-a584-5821301a4ca8')\"\n",
              "              title=\"Convert this dataframe to an interactive table.\"\n",
              "              style=\"display:none;\">\n",
              "        \n",
              "  <svg xmlns=\"http://www.w3.org/2000/svg\" height=\"24px\"viewBox=\"0 0 24 24\"\n",
              "       width=\"24px\">\n",
              "    <path d=\"M0 0h24v24H0V0z\" fill=\"none\"/>\n",
              "    <path d=\"M18.56 5.44l.94 2.06.94-2.06 2.06-.94-2.06-.94-.94-2.06-.94 2.06-2.06.94zm-11 1L8.5 8.5l.94-2.06 2.06-.94-2.06-.94L8.5 2.5l-.94 2.06-2.06.94zm10 10l.94 2.06.94-2.06 2.06-.94-2.06-.94-.94-2.06-.94 2.06-2.06.94z\"/><path d=\"M17.41 7.96l-1.37-1.37c-.4-.4-.92-.59-1.43-.59-.52 0-1.04.2-1.43.59L10.3 9.45l-7.72 7.72c-.78.78-.78 2.05 0 2.83L4 21.41c.39.39.9.59 1.41.59.51 0 1.02-.2 1.41-.59l7.78-7.78 2.81-2.81c.8-.78.8-2.07 0-2.86zM5.41 20L4 18.59l7.72-7.72 1.47 1.35L5.41 20z\"/>\n",
              "  </svg>\n",
              "      </button>\n",
              "      \n",
              "  <style>\n",
              "    .colab-df-container {\n",
              "      display:flex;\n",
              "      flex-wrap:wrap;\n",
              "      gap: 12px;\n",
              "    }\n",
              "\n",
              "    .colab-df-convert {\n",
              "      background-color: #E8F0FE;\n",
              "      border: none;\n",
              "      border-radius: 50%;\n",
              "      cursor: pointer;\n",
              "      display: none;\n",
              "      fill: #1967D2;\n",
              "      height: 32px;\n",
              "      padding: 0 0 0 0;\n",
              "      width: 32px;\n",
              "    }\n",
              "\n",
              "    .colab-df-convert:hover {\n",
              "      background-color: #E2EBFA;\n",
              "      box-shadow: 0px 1px 2px rgba(60, 64, 67, 0.3), 0px 1px 3px 1px rgba(60, 64, 67, 0.15);\n",
              "      fill: #174EA6;\n",
              "    }\n",
              "\n",
              "    [theme=dark] .colab-df-convert {\n",
              "      background-color: #3B4455;\n",
              "      fill: #D2E3FC;\n",
              "    }\n",
              "\n",
              "    [theme=dark] .colab-df-convert:hover {\n",
              "      background-color: #434B5C;\n",
              "      box-shadow: 0px 1px 3px 1px rgba(0, 0, 0, 0.15);\n",
              "      filter: drop-shadow(0px 1px 2px rgba(0, 0, 0, 0.3));\n",
              "      fill: #FFFFFF;\n",
              "    }\n",
              "  </style>\n",
              "\n",
              "      <script>\n",
              "        const buttonEl =\n",
              "          document.querySelector('#df-981b74b8-5026-4148-a584-5821301a4ca8 button.colab-df-convert');\n",
              "        buttonEl.style.display =\n",
              "          google.colab.kernel.accessAllowed ? 'block' : 'none';\n",
              "\n",
              "        async function convertToInteractive(key) {\n",
              "          const element = document.querySelector('#df-981b74b8-5026-4148-a584-5821301a4ca8');\n",
              "          const dataTable =\n",
              "            await google.colab.kernel.invokeFunction('convertToInteractive',\n",
              "                                                     [key], {});\n",
              "          if (!dataTable) return;\n",
              "\n",
              "          const docLinkHtml = 'Like what you see? Visit the ' +\n",
              "            '<a target=\"_blank\" href=https://colab.research.google.com/notebooks/data_table.ipynb>data table notebook</a>'\n",
              "            + ' to learn more about interactive tables.';\n",
              "          element.innerHTML = '';\n",
              "          dataTable['output_type'] = 'display_data';\n",
              "          await google.colab.output.renderOutput(dataTable, element);\n",
              "          const docLink = document.createElement('div');\n",
              "          docLink.innerHTML = docLinkHtml;\n",
              "          element.appendChild(docLink);\n",
              "        }\n",
              "      </script>\n",
              "    </div>\n",
              "  </div>\n",
              "  "
            ]
          },
          "metadata": {}
        }
      ]
    }
  ]
}